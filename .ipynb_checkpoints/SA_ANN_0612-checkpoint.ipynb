{
 "cells": [
  {
   "cell_type": "markdown",
   "metadata": {
    "colab_type": "text",
    "id": "JlwH6ajIzAuM"
   },
   "source": [
    "# Load Package"
   ]
  },
  {
   "cell_type": "code",
   "execution_count": 1,
   "metadata": {
    "colab": {},
    "colab_type": "code",
    "id": "-rhYgessUEZb"
   },
   "outputs": [
    {
     "name": "stderr",
     "output_type": "stream",
     "text": [
      "Using TensorFlow backend.\n"
     ]
    }
   ],
   "source": [
    "#https://github.com/YuTaNCCU/201902_ANN_Metaheuristic/tree/master/ES\n",
    "import random\n",
    "import pandas as pd\n",
    "from string import ascii_lowercase\n",
    "from copy import deepcopy\n",
    "from abc import ABCMeta, abstractmethod\n",
    "from copy import deepcopy\n",
    "from collections import deque\n",
    "from numpy import argmax\n",
    "import tensorflow as tf\n",
    "from keras import backend as K\n",
    "from keras.models import Sequential \n",
    "from keras.callbacks import TensorBoard,EarlyStopping\n",
    "import numpy as np\n",
    "from sklearn.linear_model import LinearRegression, LogisticRegression\n",
    "from sklearn.metrics import log_loss\n",
    "import  seaborn as sns\n",
    "import matplotlib.pyplot as plt"
   ]
  },
  {
   "cell_type": "markdown",
   "metadata": {
    "colab_type": "text",
    "id": "UR8bAYdozEEv"
   },
   "source": [
    "# Load Data"
   ]
  },
  {
   "cell_type": "code",
   "execution_count": 2,
   "metadata": {
    "colab": {},
    "colab_type": "code",
    "id": "hNbHjxYPh0i5"
   },
   "outputs": [
    {
     "data": {
      "text/plain": [
       "(1599, 13)"
      ]
     },
     "metadata": {},
     "output_type": "display_data"
    },
    {
     "data": {
      "text/plain": [
       "(4898, 13)"
      ]
     },
     "metadata": {},
     "output_type": "display_data"
    },
    {
     "data": {
      "text/plain": [
       "(6497, 13)"
      ]
     },
     "metadata": {},
     "output_type": "display_data"
    },
    {
     "data": {
      "text/html": [
       "<div>\n",
       "<style scoped>\n",
       "    .dataframe tbody tr th:only-of-type {\n",
       "        vertical-align: middle;\n",
       "    }\n",
       "\n",
       "    .dataframe tbody tr th {\n",
       "        vertical-align: top;\n",
       "    }\n",
       "\n",
       "    .dataframe thead th {\n",
       "        text-align: right;\n",
       "    }\n",
       "</style>\n",
       "<table border=\"1\" class=\"dataframe\">\n",
       "  <thead>\n",
       "    <tr style=\"text-align: right;\">\n",
       "      <th></th>\n",
       "      <th>fixed acidity</th>\n",
       "      <th>volatile acidity</th>\n",
       "      <th>citric acid</th>\n",
       "      <th>residual sugar</th>\n",
       "      <th>chlorides</th>\n",
       "      <th>free sulfur dioxide</th>\n",
       "      <th>total sulfur dioxide</th>\n",
       "      <th>density</th>\n",
       "      <th>pH</th>\n",
       "      <th>sulphates</th>\n",
       "      <th>alcohol</th>\n",
       "      <th>quality</th>\n",
       "      <th>WineCatg</th>\n",
       "    </tr>\n",
       "  </thead>\n",
       "  <tbody>\n",
       "    <tr>\n",
       "      <th>0</th>\n",
       "      <td>7.4</td>\n",
       "      <td>0.70</td>\n",
       "      <td>0.00</td>\n",
       "      <td>1.9</td>\n",
       "      <td>0.076</td>\n",
       "      <td>11.0</td>\n",
       "      <td>34.0</td>\n",
       "      <td>0.9978</td>\n",
       "      <td>3.51</td>\n",
       "      <td>0.56</td>\n",
       "      <td>9.4</td>\n",
       "      <td>5</td>\n",
       "      <td>red</td>\n",
       "    </tr>\n",
       "    <tr>\n",
       "      <th>1</th>\n",
       "      <td>7.8</td>\n",
       "      <td>0.88</td>\n",
       "      <td>0.00</td>\n",
       "      <td>2.6</td>\n",
       "      <td>0.098</td>\n",
       "      <td>25.0</td>\n",
       "      <td>67.0</td>\n",
       "      <td>0.9968</td>\n",
       "      <td>3.20</td>\n",
       "      <td>0.68</td>\n",
       "      <td>9.8</td>\n",
       "      <td>5</td>\n",
       "      <td>red</td>\n",
       "    </tr>\n",
       "    <tr>\n",
       "      <th>2</th>\n",
       "      <td>7.8</td>\n",
       "      <td>0.76</td>\n",
       "      <td>0.04</td>\n",
       "      <td>2.3</td>\n",
       "      <td>0.092</td>\n",
       "      <td>15.0</td>\n",
       "      <td>54.0</td>\n",
       "      <td>0.9970</td>\n",
       "      <td>3.26</td>\n",
       "      <td>0.65</td>\n",
       "      <td>9.8</td>\n",
       "      <td>5</td>\n",
       "      <td>red</td>\n",
       "    </tr>\n",
       "    <tr>\n",
       "      <th>3</th>\n",
       "      <td>11.2</td>\n",
       "      <td>0.28</td>\n",
       "      <td>0.56</td>\n",
       "      <td>1.9</td>\n",
       "      <td>0.075</td>\n",
       "      <td>17.0</td>\n",
       "      <td>60.0</td>\n",
       "      <td>0.9980</td>\n",
       "      <td>3.16</td>\n",
       "      <td>0.58</td>\n",
       "      <td>9.8</td>\n",
       "      <td>6</td>\n",
       "      <td>red</td>\n",
       "    </tr>\n",
       "    <tr>\n",
       "      <th>4</th>\n",
       "      <td>7.4</td>\n",
       "      <td>0.70</td>\n",
       "      <td>0.00</td>\n",
       "      <td>1.9</td>\n",
       "      <td>0.076</td>\n",
       "      <td>11.0</td>\n",
       "      <td>34.0</td>\n",
       "      <td>0.9978</td>\n",
       "      <td>3.51</td>\n",
       "      <td>0.56</td>\n",
       "      <td>9.4</td>\n",
       "      <td>5</td>\n",
       "      <td>red</td>\n",
       "    </tr>\n",
       "  </tbody>\n",
       "</table>\n",
       "</div>"
      ],
      "text/plain": [
       "   fixed acidity  volatile acidity  citric acid  residual sugar  chlorides  \\\n",
       "0            7.4              0.70         0.00             1.9      0.076   \n",
       "1            7.8              0.88         0.00             2.6      0.098   \n",
       "2            7.8              0.76         0.04             2.3      0.092   \n",
       "3           11.2              0.28         0.56             1.9      0.075   \n",
       "4            7.4              0.70         0.00             1.9      0.076   \n",
       "\n",
       "   free sulfur dioxide  total sulfur dioxide  density    pH  sulphates  \\\n",
       "0                 11.0                  34.0   0.9978  3.51       0.56   \n",
       "1                 25.0                  67.0   0.9968  3.20       0.68   \n",
       "2                 15.0                  54.0   0.9970  3.26       0.65   \n",
       "3                 17.0                  60.0   0.9980  3.16       0.58   \n",
       "4                 11.0                  34.0   0.9978  3.51       0.56   \n",
       "\n",
       "   alcohol  quality WineCatg  \n",
       "0      9.4        5      red  \n",
       "1      9.8        5      red  \n",
       "2      9.8        5      red  \n",
       "3      9.8        6      red  \n",
       "4      9.4        5      red  "
      ]
     },
     "metadata": {},
     "output_type": "display_data"
    },
    {
     "data": {
      "text/html": [
       "<div>\n",
       "<style scoped>\n",
       "    .dataframe tbody tr th:only-of-type {\n",
       "        vertical-align: middle;\n",
       "    }\n",
       "\n",
       "    .dataframe tbody tr th {\n",
       "        vertical-align: top;\n",
       "    }\n",
       "\n",
       "    .dataframe thead th {\n",
       "        text-align: right;\n",
       "    }\n",
       "</style>\n",
       "<table border=\"1\" class=\"dataframe\">\n",
       "  <thead>\n",
       "    <tr style=\"text-align: right;\">\n",
       "      <th></th>\n",
       "      <th>fixed acidity</th>\n",
       "      <th>volatile acidity</th>\n",
       "      <th>citric acid</th>\n",
       "      <th>residual sugar</th>\n",
       "      <th>chlorides</th>\n",
       "      <th>free sulfur dioxide</th>\n",
       "      <th>total sulfur dioxide</th>\n",
       "      <th>density</th>\n",
       "      <th>pH</th>\n",
       "      <th>sulphates</th>\n",
       "      <th>alcohol</th>\n",
       "      <th>quality</th>\n",
       "      <th>WineCatg</th>\n",
       "    </tr>\n",
       "  </thead>\n",
       "  <tbody>\n",
       "    <tr>\n",
       "      <th>4893</th>\n",
       "      <td>6.2</td>\n",
       "      <td>0.21</td>\n",
       "      <td>0.29</td>\n",
       "      <td>1.6</td>\n",
       "      <td>0.039</td>\n",
       "      <td>24.0</td>\n",
       "      <td>92.0</td>\n",
       "      <td>0.99114</td>\n",
       "      <td>3.27</td>\n",
       "      <td>0.50</td>\n",
       "      <td>11.2</td>\n",
       "      <td>6</td>\n",
       "      <td>white</td>\n",
       "    </tr>\n",
       "    <tr>\n",
       "      <th>4894</th>\n",
       "      <td>6.6</td>\n",
       "      <td>0.32</td>\n",
       "      <td>0.36</td>\n",
       "      <td>8.0</td>\n",
       "      <td>0.047</td>\n",
       "      <td>57.0</td>\n",
       "      <td>168.0</td>\n",
       "      <td>0.99490</td>\n",
       "      <td>3.15</td>\n",
       "      <td>0.46</td>\n",
       "      <td>9.6</td>\n",
       "      <td>5</td>\n",
       "      <td>white</td>\n",
       "    </tr>\n",
       "    <tr>\n",
       "      <th>4895</th>\n",
       "      <td>6.5</td>\n",
       "      <td>0.24</td>\n",
       "      <td>0.19</td>\n",
       "      <td>1.2</td>\n",
       "      <td>0.041</td>\n",
       "      <td>30.0</td>\n",
       "      <td>111.0</td>\n",
       "      <td>0.99254</td>\n",
       "      <td>2.99</td>\n",
       "      <td>0.46</td>\n",
       "      <td>9.4</td>\n",
       "      <td>6</td>\n",
       "      <td>white</td>\n",
       "    </tr>\n",
       "    <tr>\n",
       "      <th>4896</th>\n",
       "      <td>5.5</td>\n",
       "      <td>0.29</td>\n",
       "      <td>0.30</td>\n",
       "      <td>1.1</td>\n",
       "      <td>0.022</td>\n",
       "      <td>20.0</td>\n",
       "      <td>110.0</td>\n",
       "      <td>0.98869</td>\n",
       "      <td>3.34</td>\n",
       "      <td>0.38</td>\n",
       "      <td>12.8</td>\n",
       "      <td>7</td>\n",
       "      <td>white</td>\n",
       "    </tr>\n",
       "    <tr>\n",
       "      <th>4897</th>\n",
       "      <td>6.0</td>\n",
       "      <td>0.21</td>\n",
       "      <td>0.38</td>\n",
       "      <td>0.8</td>\n",
       "      <td>0.020</td>\n",
       "      <td>22.0</td>\n",
       "      <td>98.0</td>\n",
       "      <td>0.98941</td>\n",
       "      <td>3.26</td>\n",
       "      <td>0.32</td>\n",
       "      <td>11.8</td>\n",
       "      <td>6</td>\n",
       "      <td>white</td>\n",
       "    </tr>\n",
       "  </tbody>\n",
       "</table>\n",
       "</div>"
      ],
      "text/plain": [
       "      fixed acidity  volatile acidity  citric acid  residual sugar  chlorides  \\\n",
       "4893            6.2              0.21         0.29             1.6      0.039   \n",
       "4894            6.6              0.32         0.36             8.0      0.047   \n",
       "4895            6.5              0.24         0.19             1.2      0.041   \n",
       "4896            5.5              0.29         0.30             1.1      0.022   \n",
       "4897            6.0              0.21         0.38             0.8      0.020   \n",
       "\n",
       "      free sulfur dioxide  total sulfur dioxide  density    pH  sulphates  \\\n",
       "4893                 24.0                  92.0  0.99114  3.27       0.50   \n",
       "4894                 57.0                 168.0  0.99490  3.15       0.46   \n",
       "4895                 30.0                 111.0  0.99254  2.99       0.46   \n",
       "4896                 20.0                 110.0  0.98869  3.34       0.38   \n",
       "4897                 22.0                  98.0  0.98941  3.26       0.32   \n",
       "\n",
       "      alcohol  quality WineCatg  \n",
       "4893     11.2        6    white  \n",
       "4894      9.6        5    white  \n",
       "4895      9.4        6    white  \n",
       "4896     12.8        7    white  \n",
       "4897     11.8        6    white  "
      ]
     },
     "metadata": {},
     "output_type": "display_data"
    }
   ],
   "source": [
    "url = 'https://raw.githubusercontent.com/YuTaNCCU/201902_ANN_Metaheuristic/master/Data/red.csv'\n",
    "red = pd.read_csv(url)\n",
    "\n",
    "url = 'https://raw.githubusercontent.com/YuTaNCCU/201902_ANN_Metaheuristic/master/Data/white.csv'\n",
    "white = pd.read_csv(url)\n",
    "\n",
    "red['WineCatg']='red'\n",
    "white['WineCatg']='white'\n",
    "Wine_Data = pd.concat([red, white])\n",
    "\n",
    "display(\n",
    "    red.shape,\n",
    "  white.shape,\n",
    "  Wine_Data.shape,\n",
    "  Wine_Data.head(5),\n",
    "  Wine_Data.tail(5)\n",
    ")"
   ]
  },
  {
   "cell_type": "code",
   "execution_count": 3,
   "metadata": {},
   "outputs": [
    {
     "data": {
      "text/plain": [
       "Index(['fixed acidity', 'volatile acidity', 'citric acid', 'residual sugar',\n",
       "       'chlorides', 'free sulfur dioxide', 'total sulfur dioxide', 'density',\n",
       "       'pH', 'sulphates', 'alcohol', 'quality', 'WineCatg'],\n",
       "      dtype='object')"
      ]
     },
     "execution_count": 3,
     "metadata": {},
     "output_type": "execute_result"
    }
   ],
   "source": [
    "Wine_Data.columns"
   ]
  },
  {
   "cell_type": "code",
   "execution_count": 4,
   "metadata": {},
   "outputs": [
    {
     "data": {
      "text/html": [
       "<div>\n",
       "<style scoped>\n",
       "    .dataframe tbody tr th:only-of-type {\n",
       "        vertical-align: middle;\n",
       "    }\n",
       "\n",
       "    .dataframe tbody tr th {\n",
       "        vertical-align: top;\n",
       "    }\n",
       "\n",
       "    .dataframe thead th {\n",
       "        text-align: right;\n",
       "    }\n",
       "</style>\n",
       "<table border=\"1\" class=\"dataframe\">\n",
       "  <thead>\n",
       "    <tr style=\"text-align: right;\">\n",
       "      <th></th>\n",
       "      <th>fixed acidity</th>\n",
       "      <th>volatile acidity</th>\n",
       "      <th>citric acid</th>\n",
       "      <th>residual sugar</th>\n",
       "      <th>chlorides</th>\n",
       "      <th>free sulfur dioxide</th>\n",
       "      <th>total sulfur dioxide</th>\n",
       "      <th>density</th>\n",
       "      <th>pH</th>\n",
       "      <th>sulphates</th>\n",
       "      <th>alcohol</th>\n",
       "      <th>quality</th>\n",
       "    </tr>\n",
       "  </thead>\n",
       "  <tbody>\n",
       "    <tr>\n",
       "      <th>0</th>\n",
       "      <td>0.142473</td>\n",
       "      <td>2.188833</td>\n",
       "      <td>-2.192833</td>\n",
       "      <td>-0.744778</td>\n",
       "      <td>0.569958</td>\n",
       "      <td>-1.100140</td>\n",
       "      <td>-1.446446</td>\n",
       "      <td>1.034993</td>\n",
       "      <td>1.813090</td>\n",
       "      <td>0.193097</td>\n",
       "      <td>-0.915464</td>\n",
       "      <td>5</td>\n",
       "    </tr>\n",
       "    <tr>\n",
       "      <th>1</th>\n",
       "      <td>0.451036</td>\n",
       "      <td>3.282235</td>\n",
       "      <td>-2.192833</td>\n",
       "      <td>-0.597640</td>\n",
       "      <td>1.197975</td>\n",
       "      <td>-0.311320</td>\n",
       "      <td>-0.862605</td>\n",
       "      <td>0.701486</td>\n",
       "      <td>-0.115073</td>\n",
       "      <td>0.999579</td>\n",
       "      <td>-0.580068</td>\n",
       "      <td>5</td>\n",
       "    </tr>\n",
       "    <tr>\n",
       "      <th>2</th>\n",
       "      <td>0.451036</td>\n",
       "      <td>2.553300</td>\n",
       "      <td>-1.917553</td>\n",
       "      <td>-0.660699</td>\n",
       "      <td>1.026697</td>\n",
       "      <td>-0.874763</td>\n",
       "      <td>-1.092603</td>\n",
       "      <td>0.768188</td>\n",
       "      <td>0.258120</td>\n",
       "      <td>0.797958</td>\n",
       "      <td>-0.580068</td>\n",
       "      <td>5</td>\n",
       "    </tr>\n",
       "    <tr>\n",
       "      <th>3</th>\n",
       "      <td>3.073817</td>\n",
       "      <td>-0.362438</td>\n",
       "      <td>1.661085</td>\n",
       "      <td>-0.744778</td>\n",
       "      <td>0.541412</td>\n",
       "      <td>-0.762074</td>\n",
       "      <td>-0.986450</td>\n",
       "      <td>1.101694</td>\n",
       "      <td>-0.363868</td>\n",
       "      <td>0.327510</td>\n",
       "      <td>-0.580068</td>\n",
       "      <td>6</td>\n",
       "    </tr>\n",
       "    <tr>\n",
       "      <th>4</th>\n",
       "      <td>0.142473</td>\n",
       "      <td>2.188833</td>\n",
       "      <td>-2.192833</td>\n",
       "      <td>-0.744778</td>\n",
       "      <td>0.569958</td>\n",
       "      <td>-1.100140</td>\n",
       "      <td>-1.446446</td>\n",
       "      <td>1.034993</td>\n",
       "      <td>1.813090</td>\n",
       "      <td>0.193097</td>\n",
       "      <td>-0.915464</td>\n",
       "      <td>5</td>\n",
       "    </tr>\n",
       "  </tbody>\n",
       "</table>\n",
       "</div>"
      ],
      "text/plain": [
       "   fixed acidity  volatile acidity  citric acid  residual sugar  chlorides  \\\n",
       "0       0.142473          2.188833    -2.192833       -0.744778   0.569958   \n",
       "1       0.451036          3.282235    -2.192833       -0.597640   1.197975   \n",
       "2       0.451036          2.553300    -1.917553       -0.660699   1.026697   \n",
       "3       3.073817         -0.362438     1.661085       -0.744778   0.541412   \n",
       "4       0.142473          2.188833    -2.192833       -0.744778   0.569958   \n",
       "\n",
       "   free sulfur dioxide  total sulfur dioxide   density        pH  sulphates  \\\n",
       "0            -1.100140             -1.446446  1.034993  1.813090   0.193097   \n",
       "1            -0.311320             -0.862605  0.701486 -0.115073   0.999579   \n",
       "2            -0.874763             -1.092603  0.768188  0.258120   0.797958   \n",
       "3            -0.762074             -0.986450  1.101694 -0.363868   0.327510   \n",
       "4            -1.100140             -1.446446  1.034993  1.813090   0.193097   \n",
       "\n",
       "    alcohol  quality  \n",
       "0 -0.915464        5  \n",
       "1 -0.580068        5  \n",
       "2 -0.580068        5  \n",
       "3 -0.580068        6  \n",
       "4 -0.915464        5  "
      ]
     },
     "execution_count": 4,
     "metadata": {},
     "output_type": "execute_result"
    }
   ],
   "source": [
    "from sklearn import preprocessing\n",
    "Wine_Data_preprocessed = Wine_Data.drop(['WineCatg'], axis=1)\n",
    "scaler = preprocessing.StandardScaler() \n",
    "col = ['fixed acidity', 'volatile acidity', 'citric acid', 'residual sugar',  'chlorides', 'free sulfur dioxide', 'total sulfur dioxide', 'density', 'pH', 'sulphates', 'alcohol']\n",
    "Wine_Data_preprocessed[col] = scaler.fit_transform(Wine_Data_preprocessed[col])\n",
    "Wine_Data_preprocessed.head()"
   ]
  },
  {
   "cell_type": "code",
   "execution_count": 5,
   "metadata": {},
   "outputs": [
    {
     "name": "stdout",
     "output_type": "stream",
     "text": [
      "原本各種quality記數: \n",
      " 3      30\n",
      "4     216\n",
      "5    2138\n",
      "6    2836\n",
      "7    1079\n",
      "8     193\n",
      "9       5\n",
      "Name: quality, dtype: int64\n",
      "分類成好壞兩種quality記數: \n",
      " 3      30\n",
      "4     216\n",
      "5    2138\n",
      "6    2836\n",
      "7    1079\n",
      "8     193\n",
      "9       5\n",
      "Name: quality, dtype: int64\n"
     ]
    },
    {
     "data": {
      "text/html": [
       "<div>\n",
       "<style scoped>\n",
       "    .dataframe tbody tr th:only-of-type {\n",
       "        vertical-align: middle;\n",
       "    }\n",
       "\n",
       "    .dataframe tbody tr th {\n",
       "        vertical-align: top;\n",
       "    }\n",
       "\n",
       "    .dataframe thead th {\n",
       "        text-align: right;\n",
       "    }\n",
       "</style>\n",
       "<table border=\"1\" class=\"dataframe\">\n",
       "  <thead>\n",
       "    <tr style=\"text-align: right;\">\n",
       "      <th></th>\n",
       "      <th>fixed acidity</th>\n",
       "      <th>volatile acidity</th>\n",
       "      <th>citric acid</th>\n",
       "      <th>residual sugar</th>\n",
       "      <th>chlorides</th>\n",
       "      <th>free sulfur dioxide</th>\n",
       "      <th>total sulfur dioxide</th>\n",
       "      <th>density</th>\n",
       "      <th>pH</th>\n",
       "      <th>sulphates</th>\n",
       "      <th>alcohol</th>\n",
       "      <th>quality</th>\n",
       "    </tr>\n",
       "  </thead>\n",
       "  <tbody>\n",
       "    <tr>\n",
       "      <th>0</th>\n",
       "      <td>0.142473</td>\n",
       "      <td>2.188833</td>\n",
       "      <td>-2.192833</td>\n",
       "      <td>-0.744778</td>\n",
       "      <td>0.569958</td>\n",
       "      <td>-1.100140</td>\n",
       "      <td>-1.446446</td>\n",
       "      <td>1.034993</td>\n",
       "      <td>1.813090</td>\n",
       "      <td>0.193097</td>\n",
       "      <td>-0.915464</td>\n",
       "      <td>5</td>\n",
       "    </tr>\n",
       "    <tr>\n",
       "      <th>1</th>\n",
       "      <td>0.451036</td>\n",
       "      <td>3.282235</td>\n",
       "      <td>-2.192833</td>\n",
       "      <td>-0.597640</td>\n",
       "      <td>1.197975</td>\n",
       "      <td>-0.311320</td>\n",
       "      <td>-0.862605</td>\n",
       "      <td>0.701486</td>\n",
       "      <td>-0.115073</td>\n",
       "      <td>0.999579</td>\n",
       "      <td>-0.580068</td>\n",
       "      <td>5</td>\n",
       "    </tr>\n",
       "    <tr>\n",
       "      <th>2</th>\n",
       "      <td>0.451036</td>\n",
       "      <td>2.553300</td>\n",
       "      <td>-1.917553</td>\n",
       "      <td>-0.660699</td>\n",
       "      <td>1.026697</td>\n",
       "      <td>-0.874763</td>\n",
       "      <td>-1.092603</td>\n",
       "      <td>0.768188</td>\n",
       "      <td>0.258120</td>\n",
       "      <td>0.797958</td>\n",
       "      <td>-0.580068</td>\n",
       "      <td>5</td>\n",
       "    </tr>\n",
       "    <tr>\n",
       "      <th>3</th>\n",
       "      <td>3.073817</td>\n",
       "      <td>-0.362438</td>\n",
       "      <td>1.661085</td>\n",
       "      <td>-0.744778</td>\n",
       "      <td>0.541412</td>\n",
       "      <td>-0.762074</td>\n",
       "      <td>-0.986450</td>\n",
       "      <td>1.101694</td>\n",
       "      <td>-0.363868</td>\n",
       "      <td>0.327510</td>\n",
       "      <td>-0.580068</td>\n",
       "      <td>6</td>\n",
       "    </tr>\n",
       "    <tr>\n",
       "      <th>4</th>\n",
       "      <td>0.142473</td>\n",
       "      <td>2.188833</td>\n",
       "      <td>-2.192833</td>\n",
       "      <td>-0.744778</td>\n",
       "      <td>0.569958</td>\n",
       "      <td>-1.100140</td>\n",
       "      <td>-1.446446</td>\n",
       "      <td>1.034993</td>\n",
       "      <td>1.813090</td>\n",
       "      <td>0.193097</td>\n",
       "      <td>-0.915464</td>\n",
       "      <td>5</td>\n",
       "    </tr>\n",
       "  </tbody>\n",
       "</table>\n",
       "</div>"
      ],
      "text/plain": [
       "   fixed acidity  volatile acidity  citric acid  residual sugar  chlorides  \\\n",
       "0       0.142473          2.188833    -2.192833       -0.744778   0.569958   \n",
       "1       0.451036          3.282235    -2.192833       -0.597640   1.197975   \n",
       "2       0.451036          2.553300    -1.917553       -0.660699   1.026697   \n",
       "3       3.073817         -0.362438     1.661085       -0.744778   0.541412   \n",
       "4       0.142473          2.188833    -2.192833       -0.744778   0.569958   \n",
       "\n",
       "   free sulfur dioxide  total sulfur dioxide   density        pH  sulphates  \\\n",
       "0            -1.100140             -1.446446  1.034993  1.813090   0.193097   \n",
       "1            -0.311320             -0.862605  0.701486 -0.115073   0.999579   \n",
       "2            -0.874763             -1.092603  0.768188  0.258120   0.797958   \n",
       "3            -0.762074             -0.986450  1.101694 -0.363868   0.327510   \n",
       "4            -1.100140             -1.446446  1.034993  1.813090   0.193097   \n",
       "\n",
       "    alcohol  quality  \n",
       "0 -0.915464        5  \n",
       "1 -0.580068        5  \n",
       "2 -0.580068        5  \n",
       "3 -0.580068        6  \n",
       "4 -0.915464        5  "
      ]
     },
     "execution_count": 5,
     "metadata": {},
     "output_type": "execute_result"
    }
   ],
   "source": [
    "print( '原本各種quality記數: \\n', Wine_Data.quality.value_counts().sort_index() )\n",
    "Wine_Data_Y01 = Wine_Data_preprocessed.replace({'quality':[3,4,5,6,7,8,9]},{'quality':[3,4,5,6,7,8,9]})\n",
    "print( '分類成好壞兩種quality記數: \\n', Wine_Data_Y01.quality.value_counts().sort_index() )\n",
    "Wine_Data_Y01.head(5)"
   ]
  },
  {
   "cell_type": "code",
   "execution_count": 6,
   "metadata": {},
   "outputs": [],
   "source": [
    "from sklearn.preprocessing import LabelEncoder\n",
    "from keras.utils import np_utils\n",
    "\n",
    "# encode class values as integers\n",
    "encoder = LabelEncoder()\n",
    "encoder.fit(Wine_Data_Y01['quality'])\n",
    "encoded_Y = encoder.transform(Wine_Data_Y01['quality'])\n",
    "# convert integers to dummy variables (i.e. one hot encoded)\n",
    "dummy_y = np_utils.to_categorical(encoded_Y)"
   ]
  },
  {
   "cell_type": "code",
   "execution_count": 7,
   "metadata": {},
   "outputs": [
    {
     "data": {
      "text/plain": [
       "array([[0., 0., 1., ..., 0., 0., 0.],\n",
       "       [0., 0., 1., ..., 0., 0., 0.],\n",
       "       [0., 0., 1., ..., 0., 0., 0.],\n",
       "       ...,\n",
       "       [0., 0., 0., ..., 0., 0., 0.],\n",
       "       [0., 0., 0., ..., 1., 0., 0.],\n",
       "       [0., 0., 0., ..., 0., 0., 0.]], dtype=float32)"
      ]
     },
     "execution_count": 7,
     "metadata": {},
     "output_type": "execute_result"
    }
   ],
   "source": [
    "dummy_y"
   ]
  },
  {
   "cell_type": "code",
   "execution_count": 8,
   "metadata": {
    "scrolled": true
   },
   "outputs": [
    {
     "data": {
      "text/plain": [
       "(4157, 11)"
      ]
     },
     "metadata": {},
     "output_type": "display_data"
    },
    {
     "data": {
      "text/plain": [
       "(1040, 11)"
      ]
     },
     "metadata": {},
     "output_type": "display_data"
    },
    {
     "data": {
      "text/plain": [
       "(1300, 11)"
      ]
     },
     "metadata": {},
     "output_type": "display_data"
    },
    {
     "data": {
      "text/plain": [
       "(4157, 7)"
      ]
     },
     "metadata": {},
     "output_type": "display_data"
    },
    {
     "data": {
      "text/plain": [
       "(1040, 7)"
      ]
     },
     "metadata": {},
     "output_type": "display_data"
    },
    {
     "data": {
      "text/plain": [
       "(1300, 7)"
      ]
     },
     "metadata": {},
     "output_type": "display_data"
    }
   ],
   "source": [
    "# Splitting the dataset into the Training set and Test set\n",
    "from sklearn.model_selection import train_test_split\n",
    "X=Wine_Data_Y01.drop(['quality'], axis=1)\n",
    "y=dummy_y\n",
    "X_train, X_test, y_train, y_test = train_test_split(X, y, test_size=0.2,stratify=y,shuffle = True, random_state= 12)\n",
    "X_train, X_val, y_train, y_val = train_test_split(X_train, y_train, test_size=0.2,stratify=y_train ,shuffle = True, random_state= 12)\n",
    "\n",
    "display(\n",
    "      X_train.shape,\n",
    "      X_val.shape,\n",
    "      X_test.shape,\n",
    "      y_train.shape,\n",
    "      y_val.shape,\n",
    "      y_test.shape,\n",
    ")"
   ]
  },
  {
   "cell_type": "markdown",
   "metadata": {
    "toc-hr-collapsed": true
   },
   "source": [
    "# Define Performance"
   ]
  },
  {
   "cell_type": "code",
   "execution_count": 9,
   "metadata": {},
   "outputs": [
    {
     "name": "stdout",
     "output_type": "stream",
     "text": [
      "Wall time: 0 ns\n"
     ]
    }
   ],
   "source": [
    "%%time\n",
    "def score(model):\n",
    "    # Predicting the Test set results\n",
    "    y_score = model.predict(X_test) #X_train X_test\n",
    "    from sklearn.metrics import roc_auc_score\n",
    "    return round((roc_auc_score(y_test, y_score)*100),2)\n",
    "\n",
    "def Optimize_SA(model = None , score = None , initT = 1000, minT = 1 , iterL = 5000 , delta = 0.95, k = 1, init_weights = None, structure = None):\n",
    "    old_score = score(model)\n",
    "    nowt = initT \n",
    "    # start SA!\n",
    "    while nowt > minT:\n",
    "        for i in range(iterL):\n",
    "            # 初始舊權重計算分數\n",
    "            # 製作新的權重\n",
    "            xnew = init_weights + (np.random.rand(len(init_weights)) - 0.5)\n",
    "            process_weights = UnflattenWeights(structure, xnew )\n",
    "            model.set_weights(process_weights)\n",
    "            new_score = score(model)\n",
    "            # 計算分數差異\n",
    "            res = new_score - old_score # auc score\n",
    "            if res > 0:\n",
    "                init_weights = xnew\n",
    "                old_score = new_score          \n",
    "    #             Performance(model)\n",
    "            else:\n",
    "                model.set_weights(UnflattenWeights(structure, init_weights ))\n",
    "    #             p = np.exp(-res / (k * nowt))\n",
    "    #             if np.random.rand() < p:\n",
    "    #                 init_weights = xnew\n",
    "    #                 old_score = new_score\n",
    "    # #                 Performance(model)\n",
    "    #             else:\n",
    "    #                 pass\n",
    "            nowt = nowt * delta\n",
    "    return model\n",
    "\n",
    "def FlattenWeights(weights):\n",
    "        \"\"\"\n",
    "        flatten weights\n",
    "        \n",
    "        param weights: keras神經網路的權重格式:nparray包在list中\n",
    "        return WeightsStrucure : 神經網路各層的權重shape包在list中，unflatten時會用到\n",
    "        return FlattenedWeights : 一維list包含所有的權重\n",
    "        \"\"\"\n",
    "        WeightsStrucure = []\n",
    "        FlattenedWeights = []\n",
    "        for i_layer in weights:\n",
    "            WeightsStrucure.append(i_layer.shape)\n",
    "            if len(i_layer.shape) == 1 :# 該層權重的shape為一維 e.g. (15,)      \n",
    "                FlattenedWeights.extend(i_layer)\n",
    "            else :# 該層權重的shape為二維 e.g. (30, 15)  \n",
    "                for i_links in i_layer:\n",
    "                    FlattenedWeights.extend(i_links)\n",
    "        return WeightsStrucure, FlattenedWeights\n",
    "\n",
    "def UnflattenWeights(WeightsStrucure, ModifiedWeights):\n",
    "    \"\"\"\n",
    "    Unflatten(回復成原本的結構) weights  \n",
    "\n",
    "    param WeightsStrucure : 神經網路各層的權重shape包在list中\n",
    "    param ModifiedWeights : 一維list包含所有meteHeuristic修改過的權重\n",
    "    return: keras神經網路的權重格式:nparray包在list中\n",
    "    \"\"\"\n",
    "    UnflattenWeights = []\n",
    "    i_index = 0 \n",
    "    for i_layer in WeightsStrucure:\n",
    "        if len(i_layer) == 1 : # 該層權重的shape為一維 e.g. (15,)      \n",
    "            TempList = ModifiedWeights[i_index:(i_index + i_layer[0])]\n",
    "            TempList = np.asarray(TempList)\n",
    "            i_index = i_index + i_layer[0]\n",
    "        else : # 該層權重的shape為二維 e.g. (30, 15)  \n",
    "            TempList = ModifiedWeights[i_index:(i_index + (i_layer[0]*i_layer[1]))]\n",
    "            TempList = np.reshape(TempList, i_layer )\n",
    "            i_index = i_index + (i_layer[0]*i_layer[1])\n",
    "        UnflattenWeights.append(TempList)\n",
    "    return UnflattenWeights    "
   ]
  },
  {
   "cell_type": "markdown",
   "metadata": {},
   "source": [
    "## 二元分類Perfromance"
   ]
  },
  {
   "cell_type": "code",
   "execution_count": 9,
   "metadata": {},
   "outputs": [],
   "source": [
    "def Performance(model):\n",
    "    #######################\n",
    "    ## Confusion Matrix  ##\n",
    "    #######################\n",
    "\n",
    "    # Predicting the Test set results\n",
    "    y_score = model.predict(X_test) #X_train X_test\n",
    "    y_pred = (y_score > 0.5)  \n",
    "\n",
    "    # Making the Confusion Matrix\n",
    "    from sklearn.metrics import confusion_matrix\n",
    "    cm = confusion_matrix(y_test, y_pred) #y_train y_test\n",
    "    #######################\n",
    "    ###    accuracy      ##\n",
    "    #######################\n",
    "    print(\"Our accuracy is {}%\".format(round(((cm[0][0] + cm[1][1])/sum(sum(cm)))*100,2)))\n",
    "\n",
    "    sns.heatmap(cm,annot=True)\n",
    "    #######################\n",
    "    ###       AUC        ##\n",
    "    #######################    \n",
    "    from sklearn.metrics import roc_auc_score\n",
    "    print(\"Our AUC is {}%\".format(round((roc_auc_score(y_test, y_score)*100),2)))\n",
    "    \n",
    "    #######################\n",
    "    ###    ROC curve     ##\n",
    "    #######################\n",
    "    import numpy as np\n",
    "    import matplotlib.pyplot as plt\n",
    "    from itertools import cycle\n",
    "\n",
    "    from sklearn import svm, datasets\n",
    "    from sklearn.metrics import roc_curve, auc, roc_auc_score\n",
    "    from sklearn.model_selection import train_test_split\n",
    "    from sklearn.preprocessing import label_binarize\n",
    "    from sklearn.multiclass import OneVsRestClassifier\n",
    "    from scipy import interp\n",
    "    # Compute ROC curve and ROC area for each class\n",
    "    fpr = dict()\n",
    "    tpr = dict()\n",
    "    roc_auc = dict()\n",
    "    n_classes =2\n",
    "    for i in range(n_classes):\n",
    "        fpr[i], tpr[i], _ = roc_curve(y_test, y_score)\n",
    "        roc_auc[i] = auc(fpr[i], tpr[i])\n",
    "\n",
    "    # Compute micro-average ROC curve and ROC area\n",
    "    fpr[\"micro\"], tpr[\"micro\"], _ = roc_curve(y_test.ravel(), y_score.ravel())\n",
    "    roc_auc[\"micro\"] = auc(fpr[\"micro\"], tpr[\"micro\"])\n",
    "\n",
    "    #Plot of a ROC curve for a specific class\n",
    "    plt.figure()\n",
    "    lw = 2\n",
    "    plt.plot(fpr[1], tpr[1], color='darkorange',\n",
    "             lw=lw, label='ROC curve (area = %0.2f)' % roc_auc[1])\n",
    "    plt.plot([0, 1], [0, 1], color='navy', lw=lw, linestyle='--')\n",
    "    plt.xlim([0.0, 1.0])\n",
    "    plt.ylim([0.0, 1.05])\n",
    "    plt.xlabel('False Positive Rate')\n",
    "    plt.ylabel('True Positive Rate')\n",
    "    plt.title('Receiver operating characteristic example')\n",
    "    plt.legend(loc=\"lower right\")\n",
    "    plt.show() "
   ]
  },
  {
   "cell_type": "markdown",
   "metadata": {},
   "source": [
    "## 多元分類Performance"
   ]
  },
  {
   "cell_type": "code",
   "execution_count": 10,
   "metadata": {},
   "outputs": [],
   "source": [
    "def Performance_multi(model):\n",
    "    y_score = model.predict(X_test) #X_train X_test\n",
    "    y_pred = []\n",
    "    y_true = []\n",
    "    for i in range(len(y_score)):\n",
    "        y_pred.append(y_score[i].argmax())\n",
    "        y_true.append(y_test[i].argmax())\n",
    "        \n",
    "    from sklearn.metrics import confusion_matrix\n",
    "    cm = confusion_matrix(y_true, y_pred) #y_train y_test\n",
    "    \n",
    "    print(\"Our accuracy is {}%\".format(round(((cm[0][0] + cm[1][1] + cm[2][2] + cm[3][3] + cm[4][4] + cm[5][5] + cm[6][6] )/sum(sum(cm)))*100,2)))\n",
    "    \n",
    "    from sklearn.metrics import roc_auc_score\n",
    "    print(\"Our AUC is {}%\".format(round((roc_auc_score(y_test, y_score)*100),2)))"
   ]
  },
  {
   "cell_type": "code",
   "execution_count": null,
   "metadata": {},
   "outputs": [],
   "source": [
    "from sklearn.metrics import roc_curve, auc\n",
    "from itertools import cycle\n",
    "\n",
    "def ROC(model):\n",
    "    y_score = model.predict(X_test) #X_train X_test\n",
    "\n",
    "    # 计算每一类的ROC\n",
    "\n",
    "    fpr = dict()\n",
    "    tpr = dict()\n",
    "    roc_auc = dict()\n",
    "    for i in range(6):\n",
    "        fpr[i], tpr[i], _ = roc_curve(y_test[:, i], y_score[:, i])\n",
    "        roc_auc[i] = auc(fpr[i], tpr[i])\n",
    "\n",
    "    # Compute micro-average ROC curve and ROC area（方法二）\n",
    "    fpr[\"micro\"], tpr[\"micro\"], _ = roc_curve(y_test.ravel(), y_score.ravel())\n",
    "    roc_auc[\"micro\"] = auc(fpr[\"micro\"], tpr[\"micro\"])\n",
    "    # Plot all ROC curves\n",
    "    lw=2\n",
    "    plt.figure()\n",
    "    plt.plot(fpr[\"micro\"], tpr[\"micro\"],\n",
    "             label='micro-average ROC curve (area = {0:0.2f})'\n",
    "                   ''.format(roc_auc[\"micro\"]),\n",
    "             color='deeppink', linestyle=':', linewidth=4)\n",
    "\n",
    "    colors = cycle(['aqua', 'darkorange', 'cornflowerblue','black','red','blue','yellow'])\n",
    "    for i, color in zip(range(6), colors):\n",
    "        plt.plot(fpr[i], tpr[i], color=color, lw=lw,\n",
    "                 label='ROC curve of class {0} (area = {1:0.2f})'\n",
    "                 ''.format(i, roc_auc[i]))\n",
    "\n",
    "    plt.plot([0, 1], [0, 1], 'k--', lw=lw)\n",
    "    plt.xlim([0.0, 1.0])\n",
    "    plt.ylim([0.0, 1.05])\n",
    "    plt.xlabel('False Positive Rate')\n",
    "    plt.ylabel('True Positive Rate')\n",
    "    plt.title('Some extension of Receiver operating characteristic to multi-class')\n",
    "    plt.legend(loc=\"lower right\")\n",
    "    plt.show()"
   ]
  },
  {
   "cell_type": "markdown",
   "metadata": {
    "colab_type": "text",
    "id": "LgjIusZlzDaT",
    "toc-hr-collapsed": true
   },
   "source": [
    "# Define Keras Model"
   ]
  },
  {
   "cell_type": "code",
   "execution_count": 11,
   "metadata": {
    "colab": {
     "base_uri": "https://localhost:8080/",
     "height": 260
    },
    "colab_type": "code",
    "id": "IBrIxe5CU5Nz",
    "outputId": "14928888-e0d9-4fd6-ec41-68f80f096506"
   },
   "outputs": [],
   "source": [
    "def ModelCompile():\n",
    "    from keras import backend as K\n",
    "    from keras.layers import Dense\n",
    "    from keras.models import Sequential, Model as keras_models_Model\n",
    "\n",
    "    K.clear_session() \n",
    "    gpu_options = tf.GPUOptions(allow_growth=True)\n",
    "    sess = tf.Session(config=tf.ConfigProto(gpu_options=gpu_options))\n",
    "    tf.keras.backend.set_session(sess)\n",
    "\n",
    "    model = Sequential()\n",
    "    model.add(Dense(round(X_train.shape[1]/2), activation='relu', input_shape=(X_train.shape[1],)))\n",
    "    model.add(Dense(round(X_train.shape[1]/2), activation='relu'))\n",
    "    model.add(Dense(round(X_train.shape[1]/4), activation='relu', name = 'IntermediateLayer'))\n",
    "    model.add(Dense(y_train.shape[1], activation='softmax'))\n",
    "\n",
    "    model.compile(loss='categorical_crossentropy', optimizer='adam', metrics=['accuracy'])\n",
    "#     model.compile(optimizer='adam', loss='binary_crossentropy', metrics=['accuracy'])\n",
    "    model.summary()\n",
    "    return model\n",
    "\n",
    "def ModelFit(model, weights, epochs):\n",
    "    #class_weight = {0: 1., 1: 1525/2632}\n",
    "    model.set_weights(weights)\n",
    "    modelcallbacks = model.fit(X_train, y_train, epochs=epochs, batch_size=32, verbose=1,\n",
    "        validation_data = (X_val, y_val),\n",
    "        callbacks=[EarlyStopping(monitor='val_loss', patience=3, verbose=2, restore_best_weights=True)],\n",
    "        shuffle=True) #, class_weight=class_weight\n",
    "    SummarizeHistory(modelcallbacks, UseValid=True)                                        \n",
    "    weights = model.get_weights() \n",
    "    return model, weights"
   ]
  },
  {
   "cell_type": "markdown",
   "metadata": {
    "colab_type": "text",
    "id": "ULIddEh0zWGU"
   },
   "source": [
    "# Main"
   ]
  },
  {
   "cell_type": "markdown",
   "metadata": {
    "toc-hr-collapsed": true
   },
   "source": [
    "## 只用BP"
   ]
  },
  {
   "cell_type": "code",
   "execution_count": 12,
   "metadata": {},
   "outputs": [
    {
     "name": "stdout",
     "output_type": "stream",
     "text": [
      "_________________________________________________________________\n",
      "Layer (type)                 Output Shape              Param #   \n",
      "=================================================================\n",
      "dense_1 (Dense)              (None, 6)                 72        \n",
      "_________________________________________________________________\n",
      "dense_2 (Dense)              (None, 6)                 42        \n",
      "_________________________________________________________________\n",
      "IntermediateLayer (Dense)    (None, 3)                 21        \n",
      "_________________________________________________________________\n",
      "dense_3 (Dense)              (None, 7)                 28        \n",
      "=================================================================\n",
      "Total params: 163\n",
      "Trainable params: 163\n",
      "Non-trainable params: 0\n",
      "_________________________________________________________________\n",
      "Train on 4157 samples, validate on 1040 samples\n",
      "Epoch 1/150\n",
      "4157/4157 [==============================] - 1s 322us/step - loss: 1.6562 - acc: 0.3688 - val_loss: 1.4385 - val_acc: 0.4173\n",
      "Epoch 2/150\n",
      "4157/4157 [==============================] - 0s 103us/step - loss: 1.3568 - acc: 0.4058 - val_loss: 1.3111 - val_acc: 0.4413\n",
      "Epoch 3/150\n",
      "4157/4157 [==============================] - 0s 103us/step - loss: 1.2938 - acc: 0.4486 - val_loss: 1.2800 - val_acc: 0.4692\n",
      "Epoch 4/150\n",
      "4157/4157 [==============================] - 0s 102us/step - loss: 1.2701 - acc: 0.4691 - val_loss: 1.2612 - val_acc: 0.4760\n",
      "Epoch 5/150\n",
      "4157/4157 [==============================] - 0s 85us/step - loss: 1.2528 - acc: 0.4874 - val_loss: 1.2429 - val_acc: 0.4779\n",
      "Epoch 6/150\n",
      "4157/4157 [==============================] - 0s 91us/step - loss: 1.2324 - acc: 0.4895 - val_loss: 1.2172 - val_acc: 0.5067\n",
      "Epoch 7/150\n",
      "4157/4157 [==============================] - 0s 105us/step - loss: 1.2054 - acc: 0.4999 - val_loss: 1.1861 - val_acc: 0.5288\n",
      "Epoch 8/150\n",
      "4157/4157 [==============================] - 0s 111us/step - loss: 1.1775 - acc: 0.5146 - val_loss: 1.1565 - val_acc: 0.5308\n",
      "Epoch 9/150\n",
      "4157/4157 [==============================] - 0s 102us/step - loss: 1.1546 - acc: 0.5239 - val_loss: 1.1348 - val_acc: 0.5269\n",
      "Epoch 10/150\n",
      "4157/4157 [==============================] - 0s 105us/step - loss: 1.1373 - acc: 0.5259 - val_loss: 1.1174 - val_acc: 0.5298\n",
      "Epoch 11/150\n",
      "4157/4157 [==============================] - 0s 113us/step - loss: 1.1245 - acc: 0.5302 - val_loss: 1.1033 - val_acc: 0.5337\n",
      "Epoch 12/150\n",
      "4157/4157 [==============================] - 0s 105us/step - loss: 1.1150 - acc: 0.5314 - val_loss: 1.0883 - val_acc: 0.5462\n",
      "Epoch 13/150\n",
      "4157/4157 [==============================] - 0s 104us/step - loss: 1.1069 - acc: 0.5340 - val_loss: 1.0812 - val_acc: 0.5529\n",
      "Epoch 14/150\n",
      "4157/4157 [==============================] - 0s 119us/step - loss: 1.0997 - acc: 0.5405 - val_loss: 1.0717 - val_acc: 0.5490\n",
      "Epoch 15/150\n",
      "4157/4157 [==============================] - 0s 111us/step - loss: 1.0929 - acc: 0.5391 - val_loss: 1.0649 - val_acc: 0.5471\n",
      "Epoch 16/150\n",
      "4157/4157 [==============================] - 0s 100us/step - loss: 1.0893 - acc: 0.5408 - val_loss: 1.0602 - val_acc: 0.5433\n",
      "Epoch 17/150\n",
      "4157/4157 [==============================] - 0s 100us/step - loss: 1.0851 - acc: 0.5405 - val_loss: 1.0562 - val_acc: 0.5452\n",
      "Epoch 18/150\n",
      "4157/4157 [==============================] - 0s 117us/step - loss: 1.0814 - acc: 0.5429 - val_loss: 1.0517 - val_acc: 0.5577\n",
      "Epoch 19/150\n",
      "4157/4157 [==============================] - 0s 114us/step - loss: 1.0787 - acc: 0.5444 - val_loss: 1.0487 - val_acc: 0.5490\n",
      "Epoch 20/150\n",
      "4157/4157 [==============================] - 0s 95us/step - loss: 1.0759 - acc: 0.5465 - val_loss: 1.0466 - val_acc: 0.5548\n",
      "Epoch 21/150\n",
      "4157/4157 [==============================] - 0s 88us/step - loss: 1.0737 - acc: 0.5480 - val_loss: 1.0457 - val_acc: 0.5500\n",
      "Epoch 22/150\n",
      "4157/4157 [==============================] - 0s 87us/step - loss: 1.0715 - acc: 0.5502 - val_loss: 1.0442 - val_acc: 0.5558\n",
      "Epoch 23/150\n",
      "4157/4157 [==============================] - 0s 94us/step - loss: 1.0706 - acc: 0.5506 - val_loss: 1.0450 - val_acc: 0.5587\n",
      "Epoch 24/150\n",
      "4157/4157 [==============================] - 0s 96us/step - loss: 1.0684 - acc: 0.5485 - val_loss: 1.0417 - val_acc: 0.5587\n",
      "Epoch 25/150\n",
      "4157/4157 [==============================] - 0s 89us/step - loss: 1.0666 - acc: 0.5502 - val_loss: 1.0404 - val_acc: 0.5615\n",
      "Epoch 26/150\n",
      "4157/4157 [==============================] - 0s 87us/step - loss: 1.0658 - acc: 0.5552 - val_loss: 1.0396 - val_acc: 0.5644\n",
      "Epoch 27/150\n",
      "4157/4157 [==============================] - 0s 98us/step - loss: 1.0643 - acc: 0.5502 - val_loss: 1.0376 - val_acc: 0.5712\n",
      "Epoch 28/150\n",
      "4157/4157 [==============================] - 0s 102us/step - loss: 1.0628 - acc: 0.5516 - val_loss: 1.0373 - val_acc: 0.5654\n",
      "Epoch 29/150\n",
      "4157/4157 [==============================] - 0s 101us/step - loss: 1.0616 - acc: 0.5538 - val_loss: 1.0367 - val_acc: 0.5644\n",
      "Epoch 30/150\n",
      "4157/4157 [==============================] - 0s 108us/step - loss: 1.0607 - acc: 0.5530 - val_loss: 1.0373 - val_acc: 0.5567\n",
      "Epoch 31/150\n",
      "4157/4157 [==============================] - 0s 99us/step - loss: 1.0598 - acc: 0.5535 - val_loss: 1.0353 - val_acc: 0.5625\n",
      "Epoch 32/150\n",
      "4157/4157 [==============================] - 0s 91us/step - loss: 1.0585 - acc: 0.5540 - val_loss: 1.0351 - val_acc: 0.5606\n",
      "Epoch 33/150\n",
      "4157/4157 [==============================] - 0s 98us/step - loss: 1.0576 - acc: 0.5588 - val_loss: 1.0361 - val_acc: 0.5644\n",
      "Epoch 34/150\n",
      "4157/4157 [==============================] - 0s 107us/step - loss: 1.0564 - acc: 0.5509 - val_loss: 1.0345 - val_acc: 0.5615\n",
      "Epoch 35/150\n",
      "4157/4157 [==============================] - 0s 99us/step - loss: 1.0559 - acc: 0.5530 - val_loss: 1.0346 - val_acc: 0.5606\n",
      "Epoch 36/150\n",
      "4157/4157 [==============================] - 0s 98us/step - loss: 1.0550 - acc: 0.5538 - val_loss: 1.0325 - val_acc: 0.5663\n",
      "Epoch 37/150\n",
      "4157/4157 [==============================] - 0s 92us/step - loss: 1.0540 - acc: 0.5540 - val_loss: 1.0342 - val_acc: 0.5596\n",
      "Epoch 38/150\n",
      "4157/4157 [==============================] - 0s 99us/step - loss: 1.0530 - acc: 0.5574 - val_loss: 1.0333 - val_acc: 0.5644\n",
      "Epoch 39/150\n",
      "4157/4157 [==============================] - 0s 92us/step - loss: 1.0528 - acc: 0.5550 - val_loss: 1.0345 - val_acc: 0.5635\n",
      "Restoring model weights from the end of the best epoch\n",
      "Epoch 00039: early stopping\n"
     ]
    },
    {
     "ename": "NameError",
     "evalue": "name 'SummarizeHistory' is not defined",
     "output_type": "error",
     "traceback": [
      "\u001b[1;31m---------------------------------------------------------------------------\u001b[0m",
      "\u001b[1;31mNameError\u001b[0m                                 Traceback (most recent call last)",
      "\u001b[1;32m<ipython-input-12-6b5bc9f7975b>\u001b[0m in \u001b[0;36m<module>\u001b[1;34m\u001b[0m\n\u001b[0;32m      2\u001b[0m \u001b[0mmodel\u001b[0m \u001b[1;33m=\u001b[0m \u001b[0mModelCompile\u001b[0m\u001b[1;33m(\u001b[0m\u001b[1;33m)\u001b[0m\u001b[1;33m\u001b[0m\u001b[0m\n\u001b[0;32m      3\u001b[0m \u001b[0mweights\u001b[0m \u001b[1;33m=\u001b[0m \u001b[0mmodel\u001b[0m\u001b[1;33m.\u001b[0m\u001b[0mget_weights\u001b[0m\u001b[1;33m(\u001b[0m\u001b[1;33m)\u001b[0m\u001b[1;33m\u001b[0m\u001b[0m\n\u001b[1;32m----> 4\u001b[1;33m \u001b[0mmodel\u001b[0m\u001b[1;33m,\u001b[0m \u001b[0mweights\u001b[0m \u001b[1;33m=\u001b[0m \u001b[0mModelFit\u001b[0m\u001b[1;33m(\u001b[0m\u001b[0mmodel\u001b[0m\u001b[1;33m=\u001b[0m\u001b[0mmodel\u001b[0m\u001b[1;33m,\u001b[0m \u001b[0mweights\u001b[0m\u001b[1;33m=\u001b[0m\u001b[0mweights\u001b[0m\u001b[1;33m,\u001b[0m \u001b[0mepochs\u001b[0m\u001b[1;33m=\u001b[0m\u001b[1;36m150\u001b[0m\u001b[1;33m)\u001b[0m\u001b[1;33m\u001b[0m\u001b[0m\n\u001b[0m\u001b[0;32m      5\u001b[0m \u001b[1;31m# Performance(model)\u001b[0m\u001b[1;33m\u001b[0m\u001b[1;33m\u001b[0m\u001b[0m\n",
      "\u001b[1;32m<ipython-input-11-952425ccba48>\u001b[0m in \u001b[0;36mModelFit\u001b[1;34m(model, weights, epochs)\u001b[0m\n\u001b[0;32m     27\u001b[0m         \u001b[0mcallbacks\u001b[0m\u001b[1;33m=\u001b[0m\u001b[1;33m[\u001b[0m\u001b[0mEarlyStopping\u001b[0m\u001b[1;33m(\u001b[0m\u001b[0mmonitor\u001b[0m\u001b[1;33m=\u001b[0m\u001b[1;34m'val_loss'\u001b[0m\u001b[1;33m,\u001b[0m \u001b[0mpatience\u001b[0m\u001b[1;33m=\u001b[0m\u001b[1;36m3\u001b[0m\u001b[1;33m,\u001b[0m \u001b[0mverbose\u001b[0m\u001b[1;33m=\u001b[0m\u001b[1;36m2\u001b[0m\u001b[1;33m,\u001b[0m \u001b[0mrestore_best_weights\u001b[0m\u001b[1;33m=\u001b[0m\u001b[1;32mTrue\u001b[0m\u001b[1;33m)\u001b[0m\u001b[1;33m]\u001b[0m\u001b[1;33m,\u001b[0m\u001b[1;33m\u001b[0m\u001b[0m\n\u001b[0;32m     28\u001b[0m         shuffle=True) #, class_weight=class_weight\n\u001b[1;32m---> 29\u001b[1;33m     \u001b[0mSummarizeHistory\u001b[0m\u001b[1;33m(\u001b[0m\u001b[0mmodelcallbacks\u001b[0m\u001b[1;33m,\u001b[0m \u001b[0mUseValid\u001b[0m\u001b[1;33m=\u001b[0m\u001b[1;32mTrue\u001b[0m\u001b[1;33m)\u001b[0m\u001b[1;33m\u001b[0m\u001b[0m\n\u001b[0m\u001b[0;32m     30\u001b[0m     \u001b[0mweights\u001b[0m \u001b[1;33m=\u001b[0m \u001b[0mmodel\u001b[0m\u001b[1;33m.\u001b[0m\u001b[0mget_weights\u001b[0m\u001b[1;33m(\u001b[0m\u001b[1;33m)\u001b[0m\u001b[1;33m\u001b[0m\u001b[0m\n\u001b[0;32m     31\u001b[0m     \u001b[1;32mreturn\u001b[0m \u001b[0mmodel\u001b[0m\u001b[1;33m,\u001b[0m \u001b[0mweights\u001b[0m\u001b[1;33m\u001b[0m\u001b[0m\n",
      "\u001b[1;31mNameError\u001b[0m: name 'SummarizeHistory' is not defined"
     ]
    }
   ],
   "source": [
    "#只用NN\n",
    "model = ModelCompile()\n",
    "weights = model.get_weights() \n",
    "model, weights = ModelFit(model=model, weights=weights, epochs=150)\n",
    "# Performance(model)"
   ]
  },
  {
   "cell_type": "code",
   "execution_count": 26,
   "metadata": {},
   "outputs": [
    {
     "data": {
      "image/png": "[encoded data removed]",
      "text/plain": [
       "<Figure size 432x288 with 1 Axes>"
      ]
     },
     "metadata": {
      "needs_background": "light"
     },
     "output_type": "display_data"
    }
   ],
   "source": [
    "ROC(model)"
   ]
  },
  {
   "cell_type": "code",
   "execution_count": 21,
   "metadata": {},
   "outputs": [],
   "source": [
    "from sklearn.metrics import roc_curve, auc\n",
    "from itertools import cycle"
   ]
  },
  {
   "cell_type": "code",
   "execution_count": 17,
   "metadata": {},
   "outputs": [],
   "source": [
    "y_score = model.predict(X_test) #X_train X_test\n",
    "\n",
    "# 计算每一类的ROC\n",
    "\n",
    "fpr = dict()\n",
    "tpr = dict()\n",
    "roc_auc = dict()\n",
    "for i in range(6):\n",
    "    fpr[i], tpr[i], _ = roc_curve(y_test[:, i], y_score[:, i])\n",
    "    roc_auc[i] = auc(fpr[i], tpr[i])\n",
    "\n",
    "# Compute micro-average ROC curve and ROC area（方法二）\n",
    "fpr[\"micro\"], tpr[\"micro\"], _ = roc_curve(y_test.ravel(), y_score.ravel())\n",
    "roc_auc[\"micro\"] = auc(fpr[\"micro\"], tpr[\"micro\"])\n"
   ]
  },
  {
   "cell_type": "code",
   "execution_count": 24,
   "metadata": {},
   "outputs": [
    {
     "data": {
      "image/png": "[encoded data removed]",
      "text/plain": [
       "<Figure size 432x288 with 1 Axes>"
      ]
     },
     "metadata": {
      "needs_background": "light"
     },
     "output_type": "display_data"
    }
   ],
   "source": [
    "# Plot all ROC curves\n",
    "lw=2\n",
    "plt.figure()\n",
    "plt.plot(fpr[\"micro\"], tpr[\"micro\"],\n",
    "         label='micro-average ROC curve (area = {0:0.2f})'\n",
    "               ''.format(roc_auc[\"micro\"]),\n",
    "         color='deeppink', linestyle=':', linewidth=4)\n",
    "\n",
    "colors = cycle(['aqua', 'darkorange', 'cornflowerblue','black','red','blue','yellow'])\n",
    "for i, color in zip(range(6), colors):\n",
    "    plt.plot(fpr[i], tpr[i], color=color, lw=lw,\n",
    "             label='ROC curve of class {0} (area = {1:0.2f})'\n",
    "             ''.format(i, roc_auc[i]))\n",
    "\n",
    "plt.plot([0, 1], [0, 1], 'k--', lw=lw)\n",
    "plt.xlim([0.0, 1.0])\n",
    "plt.ylim([0.0, 1.05])\n",
    "plt.xlabel('False Positive Rate')\n",
    "plt.ylabel('True Positive Rate')\n",
    "plt.title('Some extension of Receiver operating characteristic to multi-class')\n",
    "plt.legend(loc=\"lower right\")\n",
    "plt.show()"
   ]
  },
  {
   "cell_type": "code",
   "execution_count": 13,
   "metadata": {},
   "outputs": [
    {
     "name": "stdout",
     "output_type": "stream",
     "text": [
      "Our accuracy is 54.15%\n",
      "Our AUC is 75.04%\n"
     ]
    },
    {
     "ename": "ValueError",
     "evalue": "multilabel-indicator format is not supported",
     "output_type": "error",
     "traceback": [
      "\u001b[1;31m---------------------------------------------------------------------------\u001b[0m",
      "\u001b[1;31mValueError\u001b[0m                                Traceback (most recent call last)",
      "\u001b[1;32m<ipython-input-13-2e8e0858dd06>\u001b[0m in \u001b[0;36m<module>\u001b[1;34m\u001b[0m\n\u001b[1;32m----> 1\u001b[1;33m \u001b[0mPerformance_multi\u001b[0m\u001b[1;33m(\u001b[0m\u001b[0mmodel\u001b[0m\u001b[1;33m)\u001b[0m\u001b[1;33m\u001b[0m\u001b[0m\n\u001b[0m",
      "\u001b[1;32m<ipython-input-10-9953aa1c230e>\u001b[0m in \u001b[0;36mPerformance_multi\u001b[1;34m(model)\u001b[0m\n\u001b[0;32m     34\u001b[0m     \u001b[0mn_classes\u001b[0m \u001b[1;33m=\u001b[0m\u001b[1;36m2\u001b[0m\u001b[1;33m\u001b[0m\u001b[0m\n\u001b[0;32m     35\u001b[0m     \u001b[1;32mfor\u001b[0m \u001b[0mi\u001b[0m \u001b[1;32min\u001b[0m \u001b[0mrange\u001b[0m\u001b[1;33m(\u001b[0m\u001b[0mn_classes\u001b[0m\u001b[1;33m)\u001b[0m\u001b[1;33m:\u001b[0m\u001b[1;33m\u001b[0m\u001b[0m\n\u001b[1;32m---> 36\u001b[1;33m         \u001b[0mfpr\u001b[0m\u001b[1;33m[\u001b[0m\u001b[0mi\u001b[0m\u001b[1;33m]\u001b[0m\u001b[1;33m,\u001b[0m \u001b[0mtpr\u001b[0m\u001b[1;33m[\u001b[0m\u001b[0mi\u001b[0m\u001b[1;33m]\u001b[0m\u001b[1;33m,\u001b[0m \u001b[0m_\u001b[0m \u001b[1;33m=\u001b[0m \u001b[0mroc_curve\u001b[0m\u001b[1;33m(\u001b[0m\u001b[0my_test\u001b[0m\u001b[1;33m,\u001b[0m \u001b[0my_score\u001b[0m\u001b[1;33m)\u001b[0m\u001b[1;33m\u001b[0m\u001b[0m\n\u001b[0m\u001b[0;32m     37\u001b[0m         \u001b[0mroc_auc\u001b[0m\u001b[1;33m[\u001b[0m\u001b[0mi\u001b[0m\u001b[1;33m]\u001b[0m \u001b[1;33m=\u001b[0m \u001b[0mauc\u001b[0m\u001b[1;33m(\u001b[0m\u001b[0mfpr\u001b[0m\u001b[1;33m[\u001b[0m\u001b[0mi\u001b[0m\u001b[1;33m]\u001b[0m\u001b[1;33m,\u001b[0m \u001b[0mtpr\u001b[0m\u001b[1;33m[\u001b[0m\u001b[0mi\u001b[0m\u001b[1;33m]\u001b[0m\u001b[1;33m)\u001b[0m\u001b[1;33m\u001b[0m\u001b[0m\n\u001b[0;32m     38\u001b[0m \u001b[1;33m\u001b[0m\u001b[0m\n",
      "\u001b[1;32mc:\\users\\howard\\appdata\\local\\programs\\python\\python36\\lib\\site-packages\\sklearn\\metrics\\ranking.py\u001b[0m in \u001b[0;36mroc_curve\u001b[1;34m(y_true, y_score, pos_label, sample_weight, drop_intermediate)\u001b[0m\n\u001b[0;32m    616\u001b[0m     \"\"\"\n\u001b[0;32m    617\u001b[0m     fps, tps, thresholds = _binary_clf_curve(\n\u001b[1;32m--> 618\u001b[1;33m         y_true, y_score, pos_label=pos_label, sample_weight=sample_weight)\n\u001b[0m\u001b[0;32m    619\u001b[0m \u001b[1;33m\u001b[0m\u001b[0m\n\u001b[0;32m    620\u001b[0m     \u001b[1;31m# Attempt to drop thresholds corresponding to points in between and\u001b[0m\u001b[1;33m\u001b[0m\u001b[1;33m\u001b[0m\u001b[0m\n",
      "\u001b[1;32mc:\\users\\howard\\appdata\\local\\programs\\python\\python36\\lib\\site-packages\\sklearn\\metrics\\ranking.py\u001b[0m in \u001b[0;36m_binary_clf_curve\u001b[1;34m(y_true, y_score, pos_label, sample_weight)\u001b[0m\n\u001b[0;32m    395\u001b[0m     if not (y_type == \"binary\" or\n\u001b[0;32m    396\u001b[0m             (y_type == \"multiclass\" and pos_label is not None)):\n\u001b[1;32m--> 397\u001b[1;33m         \u001b[1;32mraise\u001b[0m \u001b[0mValueError\u001b[0m\u001b[1;33m(\u001b[0m\u001b[1;34m\"{0} format is not supported\"\u001b[0m\u001b[1;33m.\u001b[0m\u001b[0mformat\u001b[0m\u001b[1;33m(\u001b[0m\u001b[0my_type\u001b[0m\u001b[1;33m)\u001b[0m\u001b[1;33m)\u001b[0m\u001b[1;33m\u001b[0m\u001b[0m\n\u001b[0m\u001b[0;32m    398\u001b[0m \u001b[1;33m\u001b[0m\u001b[0m\n\u001b[0;32m    399\u001b[0m     \u001b[0mcheck_consistent_length\u001b[0m\u001b[1;33m(\u001b[0m\u001b[0my_true\u001b[0m\u001b[1;33m,\u001b[0m \u001b[0my_score\u001b[0m\u001b[1;33m,\u001b[0m \u001b[0msample_weight\u001b[0m\u001b[1;33m)\u001b[0m\u001b[1;33m\u001b[0m\u001b[0m\n",
      "\u001b[1;31mValueError\u001b[0m: multilabel-indicator format is not supported"
     ]
    }
   ],
   "source": [
    "Performance_multi(model)"
   ]
  },
  {
   "cell_type": "markdown",
   "metadata": {
    "toc-hr-collapsed": true
   },
   "source": [
    "## 使用SA"
   ]
  },
  {
   "cell_type": "code",
   "execution_count": 118,
   "metadata": {},
   "outputs": [
    {
     "name": "stdout",
     "output_type": "stream",
     "text": [
      "_________________________________________________________________\n",
      "Layer (type)                 Output Shape              Param #   \n",
      "=================================================================\n",
      "dense_1 (Dense)              (None, 6)                 72        \n",
      "_________________________________________________________________\n",
      "dense_2 (Dense)              (None, 6)                 42        \n",
      "_________________________________________________________________\n",
      "IntermediateLayer (Dense)    (None, 3)                 21        \n",
      "_________________________________________________________________\n",
      "dense_3 (Dense)              (None, 7)                 28        \n",
      "=================================================================\n",
      "Total params: 163\n",
      "Trainable params: 163\n",
      "Non-trainable params: 0\n",
      "_________________________________________________________________\n",
      "Train on 4157 samples, validate on 1040 samples\n",
      "Epoch 1/50\n",
      "4157/4157 [==============================] - 1s 129us/step - loss: 1.6667 - acc: 0.3021 - val_loss: 1.4864 - val_acc: 0.3750\n",
      "Epoch 2/50\n",
      "4157/4157 [==============================] - 0s 83us/step - loss: 1.3913 - acc: 0.4145 - val_loss: 1.3022 - val_acc: 0.4096\n",
      "Epoch 3/50\n",
      "4157/4157 [==============================] - 0s 84us/step - loss: 1.2744 - acc: 0.4371 - val_loss: 1.2322 - val_acc: 0.4106\n",
      "Epoch 4/50\n",
      "4157/4157 [==============================] - 0s 84us/step - loss: 1.2278 - acc: 0.4431 - val_loss: 1.1972 - val_acc: 0.4231\n",
      "Epoch 5/50\n",
      "4157/4157 [==============================] - 0s 82us/step - loss: 1.2030 - acc: 0.4527 - val_loss: 1.1763 - val_acc: 0.4365\n",
      "Epoch 6/50\n",
      "4157/4157 [==============================] - 0s 85us/step - loss: 1.1870 - acc: 0.4624 - val_loss: 1.1616 - val_acc: 0.4490\n",
      "Epoch 7/50\n",
      "4157/4157 [==============================] - 0s 83us/step - loss: 1.1742 - acc: 0.4686 - val_loss: 1.1499 - val_acc: 0.4577\n",
      "Epoch 8/50\n",
      "4157/4157 [==============================] - 0s 83us/step - loss: 1.1629 - acc: 0.4780 - val_loss: 1.1393 - val_acc: 0.4635\n",
      "Epoch 9/50\n",
      "4157/4157 [==============================] - 0s 85us/step - loss: 1.1538 - acc: 0.4830 - val_loss: 1.1306 - val_acc: 0.4692\n",
      "Epoch 10/50\n",
      "4157/4157 [==============================] - 0s 82us/step - loss: 1.1459 - acc: 0.4895 - val_loss: 1.1223 - val_acc: 0.4673\n",
      "Epoch 11/50\n",
      "4157/4157 [==============================] - 0s 83us/step - loss: 1.1387 - acc: 0.5032 - val_loss: 1.1152 - val_acc: 0.4779\n",
      "Epoch 12/50\n",
      "4157/4157 [==============================] - 0s 83us/step - loss: 1.1320 - acc: 0.5083 - val_loss: 1.1075 - val_acc: 0.4885\n",
      "Epoch 13/50\n",
      "4157/4157 [==============================] - 0s 83us/step - loss: 1.1256 - acc: 0.5150 - val_loss: 1.1010 - val_acc: 0.5038\n",
      "Epoch 14/50\n",
      "4157/4157 [==============================] - 0s 83us/step - loss: 1.1205 - acc: 0.5247 - val_loss: 1.0954 - val_acc: 0.5106\n",
      "Epoch 15/50\n",
      "4157/4157 [==============================] - 0s 83us/step - loss: 1.1156 - acc: 0.5278 - val_loss: 1.0899 - val_acc: 0.5144\n",
      "Epoch 16/50\n",
      "4157/4157 [==============================] - 0s 83us/step - loss: 1.1115 - acc: 0.5314 - val_loss: 1.0850 - val_acc: 0.5125\n",
      "Epoch 17/50\n",
      "4157/4157 [==============================] - 0s 84us/step - loss: 1.1072 - acc: 0.5350 - val_loss: 1.0793 - val_acc: 0.5212\n",
      "Epoch 18/50\n",
      "4157/4157 [==============================] - 0s 83us/step - loss: 1.1031 - acc: 0.5338 - val_loss: 1.0755 - val_acc: 0.5317\n",
      "Epoch 19/50\n",
      "4157/4157 [==============================] - 0s 83us/step - loss: 1.0995 - acc: 0.5425 - val_loss: 1.0719 - val_acc: 0.5279\n",
      "Epoch 20/50\n",
      "4157/4157 [==============================] - 0s 84us/step - loss: 1.0960 - acc: 0.5420 - val_loss: 1.0678 - val_acc: 0.5308\n",
      "Epoch 21/50\n",
      "4157/4157 [==============================] - 0s 83us/step - loss: 1.0933 - acc: 0.5420 - val_loss: 1.0647 - val_acc: 0.5308\n",
      "Epoch 22/50\n",
      "4157/4157 [==============================] - 0s 83us/step - loss: 1.0895 - acc: 0.5391 - val_loss: 1.0624 - val_acc: 0.5423\n",
      "Epoch 23/50\n",
      "4157/4157 [==============================] - 0s 82us/step - loss: 1.0873 - acc: 0.5444 - val_loss: 1.0611 - val_acc: 0.5423\n",
      "Epoch 24/50\n",
      "4157/4157 [==============================] - 0s 81us/step - loss: 1.0842 - acc: 0.5528 - val_loss: 1.0565 - val_acc: 0.5404\n",
      "Epoch 25/50\n",
      "4157/4157 [==============================] - 0s 87us/step - loss: 1.0823 - acc: 0.5497 - val_loss: 1.0550 - val_acc: 0.5413\n",
      "Epoch 26/50\n",
      "4157/4157 [==============================] - 0s 83us/step - loss: 1.0803 - acc: 0.5490 - val_loss: 1.0520 - val_acc: 0.5519\n",
      "Epoch 27/50\n",
      "4157/4157 [==============================] - 0s 83us/step - loss: 1.0789 - acc: 0.5511 - val_loss: 1.0502 - val_acc: 0.5510\n",
      "Epoch 28/50\n",
      "4157/4157 [==============================] - 0s 84us/step - loss: 1.0768 - acc: 0.5533 - val_loss: 1.0476 - val_acc: 0.5500\n",
      "Epoch 29/50\n",
      "4157/4157 [==============================] - 0s 83us/step - loss: 1.0758 - acc: 0.5530 - val_loss: 1.0464 - val_acc: 0.5529\n",
      "Epoch 30/50\n",
      "4157/4157 [==============================] - 0s 83us/step - loss: 1.0734 - acc: 0.5511 - val_loss: 1.0463 - val_acc: 0.5462\n",
      "Epoch 31/50\n",
      "4157/4157 [==============================] - 0s 83us/step - loss: 1.0725 - acc: 0.5545 - val_loss: 1.0444 - val_acc: 0.5471\n",
      "Epoch 32/50\n",
      "4157/4157 [==============================] - 0s 84us/step - loss: 1.0711 - acc: 0.5559 - val_loss: 1.0469 - val_acc: 0.5519\n",
      "Epoch 33/50\n",
      "4157/4157 [==============================] - 0s 82us/step - loss: 1.0704 - acc: 0.5528 - val_loss: 1.0430 - val_acc: 0.5500\n",
      "Epoch 34/50\n",
      "4157/4157 [==============================] - 0s 84us/step - loss: 1.0687 - acc: 0.5545 - val_loss: 1.0417 - val_acc: 0.5510\n",
      "Epoch 35/50\n",
      "4157/4157 [==============================] - 0s 83us/step - loss: 1.0678 - acc: 0.5528 - val_loss: 1.0425 - val_acc: 0.5510\n",
      "Epoch 36/50\n",
      "4157/4157 [==============================] - ETA: 0s - loss: 1.0669 - acc: 0.556 - 0s 82us/step - loss: 1.0664 - acc: 0.5567 - val_loss: 1.0408 - val_acc: 0.5481\n",
      "Epoch 37/50\n",
      "4157/4157 [==============================] - 0s 85us/step - loss: 1.0660 - acc: 0.5586 - val_loss: 1.0396 - val_acc: 0.5519\n",
      "Epoch 38/50\n",
      "4157/4157 [==============================] - 0s 81us/step - loss: 1.0653 - acc: 0.5554 - val_loss: 1.0385 - val_acc: 0.5548\n",
      "Epoch 39/50\n",
      "4157/4157 [==============================] - 0s 83us/step - loss: 1.0639 - acc: 0.5581 - val_loss: 1.0415 - val_acc: 0.5471\n",
      "Epoch 40/50\n",
      "4157/4157 [==============================] - 0s 83us/step - loss: 1.0637 - acc: 0.5554 - val_loss: 1.0382 - val_acc: 0.5548\n",
      "Epoch 41/50\n",
      "4157/4157 [==============================] - 0s 82us/step - loss: 1.0627 - acc: 0.5569 - val_loss: 1.0370 - val_acc: 0.5529\n",
      "Epoch 42/50\n",
      "4157/4157 [==============================] - 0s 85us/step - loss: 1.0617 - acc: 0.5576 - val_loss: 1.0367 - val_acc: 0.5558\n",
      "Epoch 43/50\n",
      "4157/4157 [==============================] - 0s 93us/step - loss: 1.0617 - acc: 0.5571 - val_loss: 1.0357 - val_acc: 0.5577\n",
      "Epoch 44/50\n",
      "4157/4157 [==============================] - 0s 87us/step - loss: 1.0608 - acc: 0.5595 - val_loss: 1.0350 - val_acc: 0.5615\n",
      "Epoch 45/50\n",
      "4157/4157 [==============================] - 0s 84us/step - loss: 1.0593 - acc: 0.5567 - val_loss: 1.0355 - val_acc: 0.5510\n",
      "Epoch 46/50\n",
      "4157/4157 [==============================] - 0s 89us/step - loss: 1.0592 - acc: 0.5588 - val_loss: 1.0360 - val_acc: 0.5577\n",
      "Epoch 47/50\n",
      "4157/4157 [==============================] - 0s 93us/step - loss: 1.0586 - acc: 0.5595 - val_loss: 1.0343 - val_acc: 0.5596\n",
      "Epoch 48/50\n",
      "4157/4157 [==============================] - 0s 84us/step - loss: 1.0578 - acc: 0.5600 - val_loss: 1.0373 - val_acc: 0.5567\n",
      "Epoch 49/50\n",
      "4157/4157 [==============================] - 0s 81us/step - loss: 1.0587 - acc: 0.5579 - val_loss: 1.0362 - val_acc: 0.5567\n",
      "Epoch 50/50\n",
      "4157/4157 [==============================] - 0s 83us/step - loss: 1.0575 - acc: 0.5646 - val_loss: 1.0357 - val_acc: 0.5577\n",
      "Restoring model weights from the end of the best epoch\n",
      "Epoch 00050: early stopping\n"
     ]
    },
    {
     "data": {
      "image/png": "[encoded data removed]",
      "text/plain": [
       "<Figure size 432x288 with 1 Axes>"
      ]
     },
     "metadata": {
      "needs_background": "light"
     },
     "output_type": "display_data"
    },
    {
     "data": {
      "image/png": "[encoded data removed]",
      "text/plain": [
       "<Figure size 432x288 with 1 Axes>"
      ]
     },
     "metadata": {
      "needs_background": "light"
     },
     "output_type": "display_data"
    },
    {
     "name": "stdout",
     "output_type": "stream",
     "text": [
      "fail!\n",
      "Train on 4157 samples, validate on 1040 samples\n",
      "Epoch 1/50\n",
      "4157/4157 [==============================] - 0s 94us/step - loss: 1.0582 - acc: 0.5603 - val_loss: 1.0370 - val_acc: 0.5567\n",
      "Epoch 2/50\n",
      "4157/4157 [==============================] - 0s 95us/step - loss: 1.0578 - acc: 0.5591 - val_loss: 1.0362 - val_acc: 0.5558\n",
      "Epoch 3/50\n",
      "4157/4157 [==============================] - 0s 95us/step - loss: 1.0567 - acc: 0.5627 - val_loss: 1.0338 - val_acc: 0.5567\n",
      "Epoch 4/50\n",
      "4157/4157 [==============================] - 0s 101us/step - loss: 1.0572 - acc: 0.5619 - val_loss: 1.0337 - val_acc: 0.5577\n",
      "Epoch 5/50\n",
      "4157/4157 [==============================] - 0s 83us/step - loss: 1.0565 - acc: 0.5588 - val_loss: 1.0351 - val_acc: 0.5548\n",
      "Epoch 6/50\n",
      "4157/4157 [==============================] - 0s 83us/step - loss: 1.0556 - acc: 0.5646 - val_loss: 1.0332 - val_acc: 0.5558\n",
      "Epoch 7/50\n",
      "4157/4157 [==============================] - 0s 87us/step - loss: 1.0555 - acc: 0.5631 - val_loss: 1.0357 - val_acc: 0.5587\n",
      "Epoch 8/50\n",
      "4157/4157 [==============================] - 0s 92us/step - loss: 1.0550 - acc: 0.5658 - val_loss: 1.0356 - val_acc: 0.5433\n",
      "Epoch 9/50\n",
      "4157/4157 [==============================] - 0s 99us/step - loss: 1.0554 - acc: 0.5574 - val_loss: 1.0330 - val_acc: 0.5587\n",
      "Epoch 10/50\n",
      "4157/4157 [==============================] - 0s 88us/step - loss: 1.0545 - acc: 0.5624 - val_loss: 1.0365 - val_acc: 0.5433\n",
      "Epoch 11/50\n",
      "4157/4157 [==============================] - 0s 86us/step - loss: 1.0539 - acc: 0.5617 - val_loss: 1.0348 - val_acc: 0.5529\n",
      "Epoch 12/50\n",
      "4157/4157 [==============================] - 0s 87us/step - loss: 1.0542 - acc: 0.5627 - val_loss: 1.0332 - val_acc: 0.5596\n",
      "Restoring model weights from the end of the best epoch\n",
      "Epoch 00012: early stopping\n"
     ]
    },
    {
     "data": {
      "image/png": "[encoded data removed]",
      "text/plain": [
       "<Figure size 432x288 with 1 Axes>"
      ]
     },
     "metadata": {
      "needs_background": "light"
     },
     "output_type": "display_data"
    },
    {
     "data": {
      "image/png": "[encoded data removed]",
      "text/plain": [
       "<Figure size 432x288 with 1 Axes>"
      ]
     },
     "metadata": {
      "needs_background": "light"
     },
     "output_type": "display_data"
    },
    {
     "name": "stdout",
     "output_type": "stream",
     "text": [
      "fail!\n",
      "Train on 4157 samples, validate on 1040 samples\n",
      "Epoch 1/50\n",
      "4157/4157 [==============================] - 0s 92us/step - loss: 1.0543 - acc: 0.5579 - val_loss: 1.0359 - val_acc: 0.5510\n",
      "Epoch 2/50\n",
      "4157/4157 [==============================] - 0s 100us/step - loss: 1.0548 - acc: 0.5641 - val_loss: 1.0337 - val_acc: 0.5558\n",
      "Epoch 3/50\n",
      "4157/4157 [==============================] - 0s 106us/step - loss: 1.0544 - acc: 0.5607 - val_loss: 1.0338 - val_acc: 0.5567\n",
      "Epoch 4/50\n",
      "4157/4157 [==============================] - 0s 98us/step - loss: 1.0534 - acc: 0.5651 - val_loss: 1.0355 - val_acc: 0.5500\n",
      "Epoch 5/50\n",
      "4157/4157 [==============================] - 0s 107us/step - loss: 1.0538 - acc: 0.5629 - val_loss: 1.0345 - val_acc: 0.5490\n",
      "Restoring model weights from the end of the best epoch\n",
      "Epoch 00005: early stopping\n"
     ]
    },
    {
     "data": {
      "image/png": "[encoded data removed]",
      "text/plain": [
       "<Figure size 432x288 with 1 Axes>"
      ]
     },
     "metadata": {
      "needs_background": "light"
     },
     "output_type": "display_data"
    },
    {
     "data": {
      "image/png": "[encoded data removed]",
      "text/plain": [
       "<Figure size 432x288 with 1 Axes>"
      ]
     },
     "metadata": {
      "needs_background": "light"
     },
     "output_type": "display_data"
    },
    {
     "name": "stdout",
     "output_type": "stream",
     "text": [
      "fail!\n",
      "Train on 4157 samples, validate on 1040 samples\n",
      "Epoch 1/50\n",
      "4157/4157 [==============================] - 0s 101us/step - loss: 1.0542 - acc: 0.5619 - val_loss: 1.0330 - val_acc: 0.5596\n",
      "Epoch 2/50\n",
      "4157/4157 [==============================] - 0s 105us/step - loss: 1.0537 - acc: 0.5624 - val_loss: 1.0351 - val_acc: 0.5510\n",
      "Epoch 3/50\n",
      "4157/4157 [==============================] - 0s 96us/step - loss: 1.0530 - acc: 0.5629 - val_loss: 1.0337 - val_acc: 0.5529\n",
      "Epoch 4/50\n",
      "4157/4157 [==============================] - 0s 111us/step - loss: 1.0532 - acc: 0.5600 - val_loss: 1.0320 - val_acc: 0.5635\n",
      "Epoch 5/50\n",
      "4157/4157 [==============================] - 0s 97us/step - loss: 1.0526 - acc: 0.5639 - val_loss: 1.0344 - val_acc: 0.5481\n",
      "Epoch 6/50\n",
      "4157/4157 [==============================] - 0s 97us/step - loss: 1.0520 - acc: 0.5591 - val_loss: 1.0333 - val_acc: 0.5596\n",
      "Epoch 7/50\n",
      "4157/4157 [==============================] - 0s 98us/step - loss: 1.0519 - acc: 0.5668 - val_loss: 1.0346 - val_acc: 0.5548\n",
      "Restoring model weights from the end of the best epoch\n",
      "Epoch 00007: early stopping\n"
     ]
    },
    {
     "data": {
      "image/png": "[encoded data removed]",
      "text/plain": [
       "<Figure size 432x288 with 1 Axes>"
      ]
     },
     "metadata": {
      "needs_background": "light"
     },
     "output_type": "display_data"
    },
    {
     "data": {
      "image/png": "[encoded data removed]",
      "text/plain": [
       "<Figure size 432x288 with 1 Axes>"
      ]
     },
     "metadata": {
      "needs_background": "light"
     },
     "output_type": "display_data"
    },
    {
     "name": "stdout",
     "output_type": "stream",
     "text": [
      "fail!\n",
      "Train on 4157 samples, validate on 1040 samples\n",
      "Epoch 1/50\n",
      "4157/4157 [==============================] - 0s 93us/step - loss: 1.0529 - acc: 0.5641 - val_loss: 1.0322 - val_acc: 0.5625\n",
      "Epoch 2/50\n",
      "4157/4157 [==============================] - 0s 97us/step - loss: 1.0528 - acc: 0.5658 - val_loss: 1.0332 - val_acc: 0.5587\n",
      "Epoch 3/50\n",
      "4157/4157 [==============================] - 0s 96us/step - loss: 1.0521 - acc: 0.5658 - val_loss: 1.0330 - val_acc: 0.5519\n",
      "Epoch 4/50\n",
      "4157/4157 [==============================] - 0s 97us/step - loss: 1.0514 - acc: 0.5663 - val_loss: 1.0349 - val_acc: 0.5471\n",
      "Restoring model weights from the end of the best epoch\n",
      "Epoch 00004: early stopping\n"
     ]
    },
    {
     "data": {
      "image/png": "[encoded data removed]",
      "text/plain": [
       "<Figure size 432x288 with 1 Axes>"
      ]
     },
     "metadata": {
      "needs_background": "light"
     },
     "output_type": "display_data"
    },
    {
     "data": {
      "image/png": "[encoded data removed]",
      "text/plain": [
       "<Figure size 432x288 with 1 Axes>"
      ]
     },
     "metadata": {
      "needs_background": "light"
     },
     "output_type": "display_data"
    },
    {
     "name": "stdout",
     "output_type": "stream",
     "text": [
      "fail!\n"
     ]
    }
   ],
   "source": [
    "# Initialize\n",
    "model = ModelCompile()\n",
    "init_weights = model.get_weights() \n",
    "structure, weights =FlattenWeights(init_weights) # 拉平初始權重\n",
    "Optimize_SA(model = model, score=score,init_weights=weights,structure=structure,iterL=100) # SA 找一個好的初始解\n",
    "\n",
    "# BestAUC = score(model)\n",
    "BestACC = score(model)\n",
    "BestWeight = model.get_weights()\n",
    "NoImproveTimes = 0\n",
    "\n",
    "while True :\n",
    "    \n",
    "    #BP\n",
    "    weights = model.get_weights() \n",
    "    model, weights = ModelFit(model=model, weights=weights, epochs=50)\n",
    "    old_score = score(model)\n",
    "    \n",
    "    #丟進SA優化\n",
    "    init_weights = model.get_weights()\n",
    "    structure, weights =FlattenWeights(init_weights) # 拉平初始權重\n",
    "    Optimize_SA(model = model, score=score,init_weights=weights,structure=structure,iterL=1000) # SA 找一個好的初始解\n",
    "    new_score = score(model)\n",
    "    \n",
    "    #比較AUC 有無進步\n",
    "    if new_score > old_score:\n",
    "        BestAUC = score(model)\n",
    "        BestWeight = model.get_weights()\n",
    "        NoImproveTimes = 0\n",
    "        print(\"improve!\")\n",
    "    else: \n",
    "        model.set_weights(init_weights)\n",
    "        NoImproveTimes = NoImproveTimes + 1\n",
    "        print(\"fail!\")\n",
    "        if NoImproveTimes == 5:\n",
    "            break"
   ]
  },
  {
   "cell_type": "code",
   "execution_count": 119,
   "metadata": {},
   "outputs": [
    {
     "data": {
      "text/plain": [
       "78.28"
      ]
     },
     "execution_count": 119,
     "metadata": {},
     "output_type": "execute_result"
    }
   ],
   "source": [
    "score(model)"
   ]
  },
  {
   "cell_type": "code",
   "execution_count": 120,
   "metadata": {},
   "outputs": [
    {
     "name": "stdout",
     "output_type": "stream",
     "text": [
      "Our accuracy is 53.46%\n",
      "Our AUC is 78.28%\n"
     ]
    }
   ],
   "source": [
    "Performance_multi(model)"
   ]
  }
 ],
 "metadata": {
  "colab": {
   "collapsed_sections": [
    "f5BM9m0lzRPv"
   ],
   "name": "ES_ANN_0508",
   "provenance": [],
   "toc_visible": true,
   "version": "0.3.2"
  },
  "kernelspec": {
   "display_name": "Python 3",
   "language": "python",
   "name": "python3"
  },
  "language_info": {
   "codemirror_mode": {
    "name": "ipython",
    "version": 3
   },
   "file_extension": ".py",
   "mimetype": "text/x-python",
   "name": "python",
   "nbconvert_exporter": "python",
   "pygments_lexer": "ipython3",
   "version": "3.6.4"
  },
  "toc-autonumbering": true,
  "toc-showcode": false,
  "toc-showmarkdowntxt": false
 },
 "nbformat": 4,
 "nbformat_minor": 2
}
