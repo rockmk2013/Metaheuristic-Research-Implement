{
 "cells": [
  {
   "cell_type": "markdown",
   "metadata": {
    "colab_type": "text",
    "id": "JlwH6ajIzAuM"
   },
   "source": [
    "# Load Package"
   ]
  },
  {
   "cell_type": "code",
   "execution_count": 1,
   "metadata": {
    "colab": {},
    "colab_type": "code",
    "id": "-rhYgessUEZb"
   },
   "outputs": [
    {
     "name": "stderr",
     "output_type": "stream",
     "text": [
      "Using TensorFlow backend.\n"
     ]
    }
   ],
   "source": [
    "#https://github.com/YuTaNCCU/201902_ANN_Metaheuristic/tree/master/ES\n",
    "import random\n",
    "import pandas as pd\n",
    "from string import ascii_lowercase\n",
    "from copy import deepcopy\n",
    "from abc import ABCMeta, abstractmethod\n",
    "from copy import deepcopy\n",
    "from collections import deque\n",
    "from numpy import argmax\n",
    "import tensorflow as tf\n",
    "from keras import backend as K\n",
    "from keras.models import Sequential \n",
    "from keras.callbacks import TensorBoard,EarlyStopping\n",
    "import numpy as np\n",
    "from sklearn.linear_model import LinearRegression, LogisticRegression\n",
    "from sklearn.metrics import log_loss\n",
    "import  seaborn as sns\n",
    "import matplotlib.pyplot as plt"
   ]
  },
  {
   "cell_type": "markdown",
   "metadata": {
    "colab_type": "text",
    "id": "UR8bAYdozEEv"
   },
   "source": [
    "# Load Data"
   ]
  },
  {
   "cell_type": "code",
   "execution_count": 16,
   "metadata": {
    "colab": {},
    "colab_type": "code",
    "id": "hNbHjxYPh0i5"
   },
   "outputs": [
    {
     "data": {
      "text/plain": [
       "(1599, 13)"
      ]
     },
     "metadata": {},
     "output_type": "display_data"
    },
    {
     "data": {
      "text/plain": [
       "(4898, 13)"
      ]
     },
     "metadata": {},
     "output_type": "display_data"
    },
    {
     "data": {
      "text/plain": [
       "(6497, 13)"
      ]
     },
     "metadata": {},
     "output_type": "display_data"
    },
    {
     "data": {
      "text/html": [
       "<div>\n",
       "<style scoped>\n",
       "    .dataframe tbody tr th:only-of-type {\n",
       "        vertical-align: middle;\n",
       "    }\n",
       "\n",
       "    .dataframe tbody tr th {\n",
       "        vertical-align: top;\n",
       "    }\n",
       "\n",
       "    .dataframe thead th {\n",
       "        text-align: right;\n",
       "    }\n",
       "</style>\n",
       "<table border=\"1\" class=\"dataframe\">\n",
       "  <thead>\n",
       "    <tr style=\"text-align: right;\">\n",
       "      <th></th>\n",
       "      <th>fixed acidity</th>\n",
       "      <th>volatile acidity</th>\n",
       "      <th>citric acid</th>\n",
       "      <th>residual sugar</th>\n",
       "      <th>chlorides</th>\n",
       "      <th>free sulfur dioxide</th>\n",
       "      <th>total sulfur dioxide</th>\n",
       "      <th>density</th>\n",
       "      <th>pH</th>\n",
       "      <th>sulphates</th>\n",
       "      <th>alcohol</th>\n",
       "      <th>quality</th>\n",
       "      <th>WineCatg</th>\n",
       "    </tr>\n",
       "  </thead>\n",
       "  <tbody>\n",
       "    <tr>\n",
       "      <th>0</th>\n",
       "      <td>7.4</td>\n",
       "      <td>0.70</td>\n",
       "      <td>0.00</td>\n",
       "      <td>1.9</td>\n",
       "      <td>0.076</td>\n",
       "      <td>11.0</td>\n",
       "      <td>34.0</td>\n",
       "      <td>0.9978</td>\n",
       "      <td>3.51</td>\n",
       "      <td>0.56</td>\n",
       "      <td>9.4</td>\n",
       "      <td>5</td>\n",
       "      <td>red</td>\n",
       "    </tr>\n",
       "    <tr>\n",
       "      <th>1</th>\n",
       "      <td>7.8</td>\n",
       "      <td>0.88</td>\n",
       "      <td>0.00</td>\n",
       "      <td>2.6</td>\n",
       "      <td>0.098</td>\n",
       "      <td>25.0</td>\n",
       "      <td>67.0</td>\n",
       "      <td>0.9968</td>\n",
       "      <td>3.20</td>\n",
       "      <td>0.68</td>\n",
       "      <td>9.8</td>\n",
       "      <td>5</td>\n",
       "      <td>red</td>\n",
       "    </tr>\n",
       "    <tr>\n",
       "      <th>2</th>\n",
       "      <td>7.8</td>\n",
       "      <td>0.76</td>\n",
       "      <td>0.04</td>\n",
       "      <td>2.3</td>\n",
       "      <td>0.092</td>\n",
       "      <td>15.0</td>\n",
       "      <td>54.0</td>\n",
       "      <td>0.9970</td>\n",
       "      <td>3.26</td>\n",
       "      <td>0.65</td>\n",
       "      <td>9.8</td>\n",
       "      <td>5</td>\n",
       "      <td>red</td>\n",
       "    </tr>\n",
       "    <tr>\n",
       "      <th>3</th>\n",
       "      <td>11.2</td>\n",
       "      <td>0.28</td>\n",
       "      <td>0.56</td>\n",
       "      <td>1.9</td>\n",
       "      <td>0.075</td>\n",
       "      <td>17.0</td>\n",
       "      <td>60.0</td>\n",
       "      <td>0.9980</td>\n",
       "      <td>3.16</td>\n",
       "      <td>0.58</td>\n",
       "      <td>9.8</td>\n",
       "      <td>6</td>\n",
       "      <td>red</td>\n",
       "    </tr>\n",
       "    <tr>\n",
       "      <th>4</th>\n",
       "      <td>7.4</td>\n",
       "      <td>0.70</td>\n",
       "      <td>0.00</td>\n",
       "      <td>1.9</td>\n",
       "      <td>0.076</td>\n",
       "      <td>11.0</td>\n",
       "      <td>34.0</td>\n",
       "      <td>0.9978</td>\n",
       "      <td>3.51</td>\n",
       "      <td>0.56</td>\n",
       "      <td>9.4</td>\n",
       "      <td>5</td>\n",
       "      <td>red</td>\n",
       "    </tr>\n",
       "  </tbody>\n",
       "</table>\n",
       "</div>"
      ],
      "text/plain": [
       "   fixed acidity  volatile acidity  citric acid  residual sugar  chlorides  \\\n",
       "0            7.4              0.70         0.00             1.9      0.076   \n",
       "1            7.8              0.88         0.00             2.6      0.098   \n",
       "2            7.8              0.76         0.04             2.3      0.092   \n",
       "3           11.2              0.28         0.56             1.9      0.075   \n",
       "4            7.4              0.70         0.00             1.9      0.076   \n",
       "\n",
       "   free sulfur dioxide  total sulfur dioxide  density    pH  sulphates  \\\n",
       "0                 11.0                  34.0   0.9978  3.51       0.56   \n",
       "1                 25.0                  67.0   0.9968  3.20       0.68   \n",
       "2                 15.0                  54.0   0.9970  3.26       0.65   \n",
       "3                 17.0                  60.0   0.9980  3.16       0.58   \n",
       "4                 11.0                  34.0   0.9978  3.51       0.56   \n",
       "\n",
       "   alcohol  quality WineCatg  \n",
       "0      9.4        5      red  \n",
       "1      9.8        5      red  \n",
       "2      9.8        5      red  \n",
       "3      9.8        6      red  \n",
       "4      9.4        5      red  "
      ]
     },
     "metadata": {},
     "output_type": "display_data"
    },
    {
     "data": {
      "text/html": [
       "<div>\n",
       "<style scoped>\n",
       "    .dataframe tbody tr th:only-of-type {\n",
       "        vertical-align: middle;\n",
       "    }\n",
       "\n",
       "    .dataframe tbody tr th {\n",
       "        vertical-align: top;\n",
       "    }\n",
       "\n",
       "    .dataframe thead th {\n",
       "        text-align: right;\n",
       "    }\n",
       "</style>\n",
       "<table border=\"1\" class=\"dataframe\">\n",
       "  <thead>\n",
       "    <tr style=\"text-align: right;\">\n",
       "      <th></th>\n",
       "      <th>fixed acidity</th>\n",
       "      <th>volatile acidity</th>\n",
       "      <th>citric acid</th>\n",
       "      <th>residual sugar</th>\n",
       "      <th>chlorides</th>\n",
       "      <th>free sulfur dioxide</th>\n",
       "      <th>total sulfur dioxide</th>\n",
       "      <th>density</th>\n",
       "      <th>pH</th>\n",
       "      <th>sulphates</th>\n",
       "      <th>alcohol</th>\n",
       "      <th>quality</th>\n",
       "      <th>WineCatg</th>\n",
       "    </tr>\n",
       "  </thead>\n",
       "  <tbody>\n",
       "    <tr>\n",
       "      <th>4893</th>\n",
       "      <td>6.2</td>\n",
       "      <td>0.21</td>\n",
       "      <td>0.29</td>\n",
       "      <td>1.6</td>\n",
       "      <td>0.039</td>\n",
       "      <td>24.0</td>\n",
       "      <td>92.0</td>\n",
       "      <td>0.99114</td>\n",
       "      <td>3.27</td>\n",
       "      <td>0.50</td>\n",
       "      <td>11.2</td>\n",
       "      <td>6</td>\n",
       "      <td>white</td>\n",
       "    </tr>\n",
       "    <tr>\n",
       "      <th>4894</th>\n",
       "      <td>6.6</td>\n",
       "      <td>0.32</td>\n",
       "      <td>0.36</td>\n",
       "      <td>8.0</td>\n",
       "      <td>0.047</td>\n",
       "      <td>57.0</td>\n",
       "      <td>168.0</td>\n",
       "      <td>0.99490</td>\n",
       "      <td>3.15</td>\n",
       "      <td>0.46</td>\n",
       "      <td>9.6</td>\n",
       "      <td>5</td>\n",
       "      <td>white</td>\n",
       "    </tr>\n",
       "    <tr>\n",
       "      <th>4895</th>\n",
       "      <td>6.5</td>\n",
       "      <td>0.24</td>\n",
       "      <td>0.19</td>\n",
       "      <td>1.2</td>\n",
       "      <td>0.041</td>\n",
       "      <td>30.0</td>\n",
       "      <td>111.0</td>\n",
       "      <td>0.99254</td>\n",
       "      <td>2.99</td>\n",
       "      <td>0.46</td>\n",
       "      <td>9.4</td>\n",
       "      <td>6</td>\n",
       "      <td>white</td>\n",
       "    </tr>\n",
       "    <tr>\n",
       "      <th>4896</th>\n",
       "      <td>5.5</td>\n",
       "      <td>0.29</td>\n",
       "      <td>0.30</td>\n",
       "      <td>1.1</td>\n",
       "      <td>0.022</td>\n",
       "      <td>20.0</td>\n",
       "      <td>110.0</td>\n",
       "      <td>0.98869</td>\n",
       "      <td>3.34</td>\n",
       "      <td>0.38</td>\n",
       "      <td>12.8</td>\n",
       "      <td>7</td>\n",
       "      <td>white</td>\n",
       "    </tr>\n",
       "    <tr>\n",
       "      <th>4897</th>\n",
       "      <td>6.0</td>\n",
       "      <td>0.21</td>\n",
       "      <td>0.38</td>\n",
       "      <td>0.8</td>\n",
       "      <td>0.020</td>\n",
       "      <td>22.0</td>\n",
       "      <td>98.0</td>\n",
       "      <td>0.98941</td>\n",
       "      <td>3.26</td>\n",
       "      <td>0.32</td>\n",
       "      <td>11.8</td>\n",
       "      <td>6</td>\n",
       "      <td>white</td>\n",
       "    </tr>\n",
       "  </tbody>\n",
       "</table>\n",
       "</div>"
      ],
      "text/plain": [
       "      fixed acidity  volatile acidity  citric acid  residual sugar  chlorides  \\\n",
       "4893            6.2              0.21         0.29             1.6      0.039   \n",
       "4894            6.6              0.32         0.36             8.0      0.047   \n",
       "4895            6.5              0.24         0.19             1.2      0.041   \n",
       "4896            5.5              0.29         0.30             1.1      0.022   \n",
       "4897            6.0              0.21         0.38             0.8      0.020   \n",
       "\n",
       "      free sulfur dioxide  total sulfur dioxide  density    pH  sulphates  \\\n",
       "4893                 24.0                  92.0  0.99114  3.27       0.50   \n",
       "4894                 57.0                 168.0  0.99490  3.15       0.46   \n",
       "4895                 30.0                 111.0  0.99254  2.99       0.46   \n",
       "4896                 20.0                 110.0  0.98869  3.34       0.38   \n",
       "4897                 22.0                  98.0  0.98941  3.26       0.32   \n",
       "\n",
       "      alcohol  quality WineCatg  \n",
       "4893     11.2        6    white  \n",
       "4894      9.6        5    white  \n",
       "4895      9.4        6    white  \n",
       "4896     12.8        7    white  \n",
       "4897     11.8        6    white  "
      ]
     },
     "metadata": {},
     "output_type": "display_data"
    }
   ],
   "source": [
    "url = 'https://raw.githubusercontent.com/YuTaNCCU/201902_ANN_Metaheuristic/master/Data/red.csv'\n",
    "red = pd.read_csv(url)\n",
    "\n",
    "url = 'https://raw.githubusercontent.com/YuTaNCCU/201902_ANN_Metaheuristic/master/Data/white.csv'\n",
    "white = pd.read_csv(url)\n",
    "\n",
    "red['WineCatg']='red'\n",
    "white['WineCatg']='white'\n",
    "Wine_Data = pd.concat([red, white])\n",
    "\n",
    "display(\n",
    "    red.shape,\n",
    "  white.shape,\n",
    "  Wine_Data.shape,\n",
    "  Wine_Data.head(5),\n",
    "  Wine_Data.tail(5)\n",
    ")"
   ]
  },
  {
   "cell_type": "code",
   "execution_count": 17,
   "metadata": {},
   "outputs": [
    {
     "data": {
      "text/plain": [
       "Index(['fixed acidity', 'volatile acidity', 'citric acid', 'residual sugar',\n",
       "       'chlorides', 'free sulfur dioxide', 'total sulfur dioxide', 'density',\n",
       "       'pH', 'sulphates', 'alcohol', 'quality', 'WineCatg'],\n",
       "      dtype='object')"
      ]
     },
     "execution_count": 17,
     "metadata": {},
     "output_type": "execute_result"
    }
   ],
   "source": [
    "Wine_Data.columns"
   ]
  },
  {
   "cell_type": "code",
   "execution_count": 18,
   "metadata": {},
   "outputs": [
    {
     "data": {
      "text/html": [
       "<div>\n",
       "<style scoped>\n",
       "    .dataframe tbody tr th:only-of-type {\n",
       "        vertical-align: middle;\n",
       "    }\n",
       "\n",
       "    .dataframe tbody tr th {\n",
       "        vertical-align: top;\n",
       "    }\n",
       "\n",
       "    .dataframe thead th {\n",
       "        text-align: right;\n",
       "    }\n",
       "</style>\n",
       "<table border=\"1\" class=\"dataframe\">\n",
       "  <thead>\n",
       "    <tr style=\"text-align: right;\">\n",
       "      <th></th>\n",
       "      <th>fixed acidity</th>\n",
       "      <th>volatile acidity</th>\n",
       "      <th>citric acid</th>\n",
       "      <th>residual sugar</th>\n",
       "      <th>chlorides</th>\n",
       "      <th>free sulfur dioxide</th>\n",
       "      <th>total sulfur dioxide</th>\n",
       "      <th>density</th>\n",
       "      <th>pH</th>\n",
       "      <th>sulphates</th>\n",
       "      <th>alcohol</th>\n",
       "      <th>quality</th>\n",
       "    </tr>\n",
       "  </thead>\n",
       "  <tbody>\n",
       "    <tr>\n",
       "      <th>0</th>\n",
       "      <td>0.142473</td>\n",
       "      <td>2.188833</td>\n",
       "      <td>-2.192833</td>\n",
       "      <td>-0.744778</td>\n",
       "      <td>0.569958</td>\n",
       "      <td>-1.100140</td>\n",
       "      <td>-1.446446</td>\n",
       "      <td>1.034993</td>\n",
       "      <td>1.813090</td>\n",
       "      <td>0.193097</td>\n",
       "      <td>-0.915464</td>\n",
       "      <td>5</td>\n",
       "    </tr>\n",
       "    <tr>\n",
       "      <th>1</th>\n",
       "      <td>0.451036</td>\n",
       "      <td>3.282235</td>\n",
       "      <td>-2.192833</td>\n",
       "      <td>-0.597640</td>\n",
       "      <td>1.197975</td>\n",
       "      <td>-0.311320</td>\n",
       "      <td>-0.862605</td>\n",
       "      <td>0.701486</td>\n",
       "      <td>-0.115073</td>\n",
       "      <td>0.999579</td>\n",
       "      <td>-0.580068</td>\n",
       "      <td>5</td>\n",
       "    </tr>\n",
       "    <tr>\n",
       "      <th>2</th>\n",
       "      <td>0.451036</td>\n",
       "      <td>2.553300</td>\n",
       "      <td>-1.917553</td>\n",
       "      <td>-0.660699</td>\n",
       "      <td>1.026697</td>\n",
       "      <td>-0.874763</td>\n",
       "      <td>-1.092603</td>\n",
       "      <td>0.768188</td>\n",
       "      <td>0.258120</td>\n",
       "      <td>0.797958</td>\n",
       "      <td>-0.580068</td>\n",
       "      <td>5</td>\n",
       "    </tr>\n",
       "    <tr>\n",
       "      <th>3</th>\n",
       "      <td>3.073817</td>\n",
       "      <td>-0.362438</td>\n",
       "      <td>1.661085</td>\n",
       "      <td>-0.744778</td>\n",
       "      <td>0.541412</td>\n",
       "      <td>-0.762074</td>\n",
       "      <td>-0.986450</td>\n",
       "      <td>1.101694</td>\n",
       "      <td>-0.363868</td>\n",
       "      <td>0.327510</td>\n",
       "      <td>-0.580068</td>\n",
       "      <td>6</td>\n",
       "    </tr>\n",
       "    <tr>\n",
       "      <th>4</th>\n",
       "      <td>0.142473</td>\n",
       "      <td>2.188833</td>\n",
       "      <td>-2.192833</td>\n",
       "      <td>-0.744778</td>\n",
       "      <td>0.569958</td>\n",
       "      <td>-1.100140</td>\n",
       "      <td>-1.446446</td>\n",
       "      <td>1.034993</td>\n",
       "      <td>1.813090</td>\n",
       "      <td>0.193097</td>\n",
       "      <td>-0.915464</td>\n",
       "      <td>5</td>\n",
       "    </tr>\n",
       "  </tbody>\n",
       "</table>\n",
       "</div>"
      ],
      "text/plain": [
       "   fixed acidity  volatile acidity  citric acid  residual sugar  chlorides  \\\n",
       "0       0.142473          2.188833    -2.192833       -0.744778   0.569958   \n",
       "1       0.451036          3.282235    -2.192833       -0.597640   1.197975   \n",
       "2       0.451036          2.553300    -1.917553       -0.660699   1.026697   \n",
       "3       3.073817         -0.362438     1.661085       -0.744778   0.541412   \n",
       "4       0.142473          2.188833    -2.192833       -0.744778   0.569958   \n",
       "\n",
       "   free sulfur dioxide  total sulfur dioxide   density        pH  sulphates  \\\n",
       "0            -1.100140             -1.446446  1.034993  1.813090   0.193097   \n",
       "1            -0.311320             -0.862605  0.701486 -0.115073   0.999579   \n",
       "2            -0.874763             -1.092603  0.768188  0.258120   0.797958   \n",
       "3            -0.762074             -0.986450  1.101694 -0.363868   0.327510   \n",
       "4            -1.100140             -1.446446  1.034993  1.813090   0.193097   \n",
       "\n",
       "    alcohol  quality  \n",
       "0 -0.915464        5  \n",
       "1 -0.580068        5  \n",
       "2 -0.580068        5  \n",
       "3 -0.580068        6  \n",
       "4 -0.915464        5  "
      ]
     },
     "execution_count": 18,
     "metadata": {},
     "output_type": "execute_result"
    }
   ],
   "source": [
    "from sklearn import preprocessing\n",
    "Wine_Data_preprocessed = Wine_Data.drop(['WineCatg'], axis=1)\n",
    "scaler = preprocessing.StandardScaler() \n",
    "col = ['fixed acidity', 'volatile acidity', 'citric acid', 'residual sugar',  'chlorides', 'free sulfur dioxide', 'total sulfur dioxide', 'density', 'pH', 'sulphates', 'alcohol']\n",
    "Wine_Data_preprocessed[col] = scaler.fit_transform(Wine_Data_preprocessed[col])\n",
    "Wine_Data_preprocessed.head()"
   ]
  },
  {
   "cell_type": "code",
   "execution_count": 21,
   "metadata": {},
   "outputs": [
    {
     "name": "stdout",
     "output_type": "stream",
     "text": [
      "原本各種quality記數: \n",
      " 3      30\n",
      "4     216\n",
      "5    2138\n",
      "6    2836\n",
      "7    1079\n",
      "8     193\n",
      "9       5\n",
      "Name: quality, dtype: int64\n",
      "分類成好壞兩種quality記數: \n",
      " 3      30\n",
      "4     216\n",
      "5    2138\n",
      "6    2836\n",
      "7    1079\n",
      "8     193\n",
      "9       5\n",
      "Name: quality, dtype: int64\n"
     ]
    },
    {
     "data": {
      "text/html": [
       "<div>\n",
       "<style scoped>\n",
       "    .dataframe tbody tr th:only-of-type {\n",
       "        vertical-align: middle;\n",
       "    }\n",
       "\n",
       "    .dataframe tbody tr th {\n",
       "        vertical-align: top;\n",
       "    }\n",
       "\n",
       "    .dataframe thead th {\n",
       "        text-align: right;\n",
       "    }\n",
       "</style>\n",
       "<table border=\"1\" class=\"dataframe\">\n",
       "  <thead>\n",
       "    <tr style=\"text-align: right;\">\n",
       "      <th></th>\n",
       "      <th>fixed acidity</th>\n",
       "      <th>volatile acidity</th>\n",
       "      <th>citric acid</th>\n",
       "      <th>residual sugar</th>\n",
       "      <th>chlorides</th>\n",
       "      <th>free sulfur dioxide</th>\n",
       "      <th>total sulfur dioxide</th>\n",
       "      <th>density</th>\n",
       "      <th>pH</th>\n",
       "      <th>sulphates</th>\n",
       "      <th>alcohol</th>\n",
       "      <th>quality</th>\n",
       "    </tr>\n",
       "  </thead>\n",
       "  <tbody>\n",
       "    <tr>\n",
       "      <th>0</th>\n",
       "      <td>0.142473</td>\n",
       "      <td>2.188833</td>\n",
       "      <td>-2.192833</td>\n",
       "      <td>-0.744778</td>\n",
       "      <td>0.569958</td>\n",
       "      <td>-1.100140</td>\n",
       "      <td>-1.446446</td>\n",
       "      <td>1.034993</td>\n",
       "      <td>1.813090</td>\n",
       "      <td>0.193097</td>\n",
       "      <td>-0.915464</td>\n",
       "      <td>5</td>\n",
       "    </tr>\n",
       "    <tr>\n",
       "      <th>1</th>\n",
       "      <td>0.451036</td>\n",
       "      <td>3.282235</td>\n",
       "      <td>-2.192833</td>\n",
       "      <td>-0.597640</td>\n",
       "      <td>1.197975</td>\n",
       "      <td>-0.311320</td>\n",
       "      <td>-0.862605</td>\n",
       "      <td>0.701486</td>\n",
       "      <td>-0.115073</td>\n",
       "      <td>0.999579</td>\n",
       "      <td>-0.580068</td>\n",
       "      <td>5</td>\n",
       "    </tr>\n",
       "    <tr>\n",
       "      <th>2</th>\n",
       "      <td>0.451036</td>\n",
       "      <td>2.553300</td>\n",
       "      <td>-1.917553</td>\n",
       "      <td>-0.660699</td>\n",
       "      <td>1.026697</td>\n",
       "      <td>-0.874763</td>\n",
       "      <td>-1.092603</td>\n",
       "      <td>0.768188</td>\n",
       "      <td>0.258120</td>\n",
       "      <td>0.797958</td>\n",
       "      <td>-0.580068</td>\n",
       "      <td>5</td>\n",
       "    </tr>\n",
       "    <tr>\n",
       "      <th>3</th>\n",
       "      <td>3.073817</td>\n",
       "      <td>-0.362438</td>\n",
       "      <td>1.661085</td>\n",
       "      <td>-0.744778</td>\n",
       "      <td>0.541412</td>\n",
       "      <td>-0.762074</td>\n",
       "      <td>-0.986450</td>\n",
       "      <td>1.101694</td>\n",
       "      <td>-0.363868</td>\n",
       "      <td>0.327510</td>\n",
       "      <td>-0.580068</td>\n",
       "      <td>6</td>\n",
       "    </tr>\n",
       "    <tr>\n",
       "      <th>4</th>\n",
       "      <td>0.142473</td>\n",
       "      <td>2.188833</td>\n",
       "      <td>-2.192833</td>\n",
       "      <td>-0.744778</td>\n",
       "      <td>0.569958</td>\n",
       "      <td>-1.100140</td>\n",
       "      <td>-1.446446</td>\n",
       "      <td>1.034993</td>\n",
       "      <td>1.813090</td>\n",
       "      <td>0.193097</td>\n",
       "      <td>-0.915464</td>\n",
       "      <td>5</td>\n",
       "    </tr>\n",
       "  </tbody>\n",
       "</table>\n",
       "</div>"
      ],
      "text/plain": [
       "   fixed acidity  volatile acidity  citric acid  residual sugar  chlorides  \\\n",
       "0       0.142473          2.188833    -2.192833       -0.744778   0.569958   \n",
       "1       0.451036          3.282235    -2.192833       -0.597640   1.197975   \n",
       "2       0.451036          2.553300    -1.917553       -0.660699   1.026697   \n",
       "3       3.073817         -0.362438     1.661085       -0.744778   0.541412   \n",
       "4       0.142473          2.188833    -2.192833       -0.744778   0.569958   \n",
       "\n",
       "   free sulfur dioxide  total sulfur dioxide   density        pH  sulphates  \\\n",
       "0            -1.100140             -1.446446  1.034993  1.813090   0.193097   \n",
       "1            -0.311320             -0.862605  0.701486 -0.115073   0.999579   \n",
       "2            -0.874763             -1.092603  0.768188  0.258120   0.797958   \n",
       "3            -0.762074             -0.986450  1.101694 -0.363868   0.327510   \n",
       "4            -1.100140             -1.446446  1.034993  1.813090   0.193097   \n",
       "\n",
       "    alcohol  quality  \n",
       "0 -0.915464        5  \n",
       "1 -0.580068        5  \n",
       "2 -0.580068        5  \n",
       "3 -0.580068        6  \n",
       "4 -0.915464        5  "
      ]
     },
     "execution_count": 21,
     "metadata": {},
     "output_type": "execute_result"
    }
   ],
   "source": [
    "print( '原本各種quality記數: \\n', Wine_Data.quality.value_counts().sort_index() )\n",
    "Wine_Data_Y01 = Wine_Data_preprocessed.replace({'quality':[3,4,5,6,7,8,9]},{'quality':[3,4,5,6,7,8,9]})\n",
    "print( '分類成好壞兩種quality記數: \\n', Wine_Data_Y01.quality.value_counts().sort_index() )\n",
    "Wine_Data_Y01.head(5)"
   ]
  },
  {
   "cell_type": "code",
   "execution_count": 22,
   "metadata": {},
   "outputs": [],
   "source": [
    "from sklearn.preprocessing import LabelEncoder\n",
    "from keras.utils import np_utils\n",
    "\n",
    "# encode class values as integers\n",
    "encoder = LabelEncoder()\n",
    "encoder.fit(Wine_Data_Y01['quality'])\n",
    "encoded_Y = encoder.transform(Wine_Data_Y01['quality'])\n",
    "# convert integers to dummy variables (i.e. one hot encoded)\n",
    "dummy_y = np_utils.to_categorical(encoded_Y)"
   ]
  },
  {
   "cell_type": "code",
   "execution_count": 23,
   "metadata": {},
   "outputs": [
    {
     "data": {
      "text/plain": [
       "array([[0., 0., 1., ..., 0., 0., 0.],\n",
       "       [0., 0., 1., ..., 0., 0., 0.],\n",
       "       [0., 0., 1., ..., 0., 0., 0.],\n",
       "       ...,\n",
       "       [0., 0., 0., ..., 0., 0., 0.],\n",
       "       [0., 0., 0., ..., 1., 0., 0.],\n",
       "       [0., 0., 0., ..., 0., 0., 0.]], dtype=float32)"
      ]
     },
     "execution_count": 23,
     "metadata": {},
     "output_type": "execute_result"
    }
   ],
   "source": [
    "dummy_y"
   ]
  },
  {
   "cell_type": "code",
   "execution_count": 24,
   "metadata": {
    "scrolled": true
   },
   "outputs": [
    {
     "data": {
      "text/plain": [
       "(4157, 11)"
      ]
     },
     "metadata": {},
     "output_type": "display_data"
    },
    {
     "data": {
      "text/plain": [
       "(1040, 11)"
      ]
     },
     "metadata": {},
     "output_type": "display_data"
    },
    {
     "data": {
      "text/plain": [
       "(1300, 11)"
      ]
     },
     "metadata": {},
     "output_type": "display_data"
    },
    {
     "data": {
      "text/plain": [
       "(4157, 7)"
      ]
     },
     "metadata": {},
     "output_type": "display_data"
    },
    {
     "data": {
      "text/plain": [
       "(1040, 7)"
      ]
     },
     "metadata": {},
     "output_type": "display_data"
    },
    {
     "data": {
      "text/plain": [
       "(1300, 7)"
      ]
     },
     "metadata": {},
     "output_type": "display_data"
    }
   ],
   "source": [
    "# Splitting the dataset into the Training set and Test set\n",
    "from sklearn.model_selection import train_test_split\n",
    "X=Wine_Data_Y01.drop(['quality'], axis=1)\n",
    "y=dummy_y\n",
    "X_train, X_test, y_train, y_test = train_test_split(X, y, test_size=0.2,stratify=y,shuffle = True, random_state= 12)\n",
    "X_train, X_val, y_train, y_val = train_test_split(X_train, y_train, test_size=0.2,stratify=y_train ,shuffle = True, random_state= 12)\n",
    "\n",
    "display(\n",
    "      X_train.shape,\n",
    "      X_val.shape,\n",
    "      X_test.shape,\n",
    "      y_train.shape,\n",
    "      y_val.shape,\n",
    "      y_test.shape,\n",
    ")"
   ]
  },
  {
   "cell_type": "markdown",
   "metadata": {
    "toc-hr-collapsed": true
   },
   "source": [
    "# Define Performance"
   ]
  },
  {
   "cell_type": "code",
   "execution_count": 8,
   "metadata": {},
   "outputs": [
    {
     "name": "stdout",
     "output_type": "stream",
     "text": [
      "Wall time: 0 ns\n"
     ]
    }
   ],
   "source": [
    "%%time\n",
    "def score(model):\n",
    "    # Predicting the Test set results\n",
    "    y_score = model.predict(X_test) #X_train X_test\n",
    "    y_pred = (y_score > 0.5)  \n",
    "    from sklearn.metrics import roc_auc_score\n",
    "    return round((roc_auc_score(y_test, y_score)*100),2)\n",
    "\n",
    "def Optimize_SA(model = None , score = None , initT = 1000, minT = 1 , iterL = 5000 , delta = 0.95, k = 1, init_weights = None, structure = None):\n",
    "    old_score = score(model)\n",
    "    nowt = initT \n",
    "    # start SA!\n",
    "    while nowt > minT:\n",
    "        for i in range(iterL):\n",
    "            # 初始舊權重計算分數\n",
    "            # 製作新的權重\n",
    "            xnew = init_weights + (np.random.rand(len(init_weights)) - 0.5)\n",
    "            process_weights = UnflattenWeights(structure, xnew )\n",
    "            model.set_weights(process_weights)\n",
    "            new_score = score(model)\n",
    "            # 計算分數差異\n",
    "            res = new_score - old_score # auc score\n",
    "            if res > 0:\n",
    "                init_weights = xnew\n",
    "                old_score = new_score          \n",
    "    #             Performance(model)\n",
    "            else:\n",
    "                model.set_weights(UnflattenWeights(structure, init_weights ))\n",
    "    #             p = np.exp(-res / (k * nowt))\n",
    "    #             if np.random.rand() < p:\n",
    "    #                 init_weights = xnew\n",
    "    #                 old_score = new_score\n",
    "    # #                 Performance(model)\n",
    "    #             else:\n",
    "    #                 pass\n",
    "            nowt = nowt * delta\n",
    "    return model\n",
    "\n",
    "def FlattenWeights(weights):\n",
    "        \"\"\"\n",
    "        flatten weights\n",
    "        \n",
    "        param weights: keras神經網路的權重格式:nparray包在list中\n",
    "        return WeightsStrucure : 神經網路各層的權重shape包在list中，unflatten時會用到\n",
    "        return FlattenedWeights : 一維list包含所有的權重\n",
    "        \"\"\"\n",
    "        WeightsStrucure = []\n",
    "        FlattenedWeights = []\n",
    "        for i_layer in weights:\n",
    "            WeightsStrucure.append(i_layer.shape)\n",
    "            if len(i_layer.shape) == 1 :# 該層權重的shape為一維 e.g. (15,)      \n",
    "                FlattenedWeights.extend(i_layer)\n",
    "            else :# 該層權重的shape為二維 e.g. (30, 15)  \n",
    "                for i_links in i_layer:\n",
    "                    FlattenedWeights.extend(i_links)\n",
    "        return WeightsStrucure, FlattenedWeights\n",
    "\n",
    "def UnflattenWeights(WeightsStrucure, ModifiedWeights):\n",
    "    \"\"\"\n",
    "    Unflatten(回復成原本的結構) weights  \n",
    "\n",
    "    param WeightsStrucure : 神經網路各層的權重shape包在list中\n",
    "    param ModifiedWeights : 一維list包含所有meteHeuristic修改過的權重\n",
    "    return: keras神經網路的權重格式:nparray包在list中\n",
    "    \"\"\"\n",
    "    UnflattenWeights = []\n",
    "    i_index = 0 \n",
    "    for i_layer in WeightsStrucure:\n",
    "        if len(i_layer) == 1 : # 該層權重的shape為一維 e.g. (15,)      \n",
    "            TempList = ModifiedWeights[i_index:(i_index + i_layer[0])]\n",
    "            TempList = np.asarray(TempList)\n",
    "            i_index = i_index + i_layer[0]\n",
    "        else : # 該層權重的shape為二維 e.g. (30, 15)  \n",
    "            TempList = ModifiedWeights[i_index:(i_index + (i_layer[0]*i_layer[1]))]\n",
    "            TempList = np.reshape(TempList, i_layer )\n",
    "            i_index = i_index + (i_layer[0]*i_layer[1])\n",
    "        UnflattenWeights.append(TempList)\n",
    "    return UnflattenWeights    "
   ]
  },
  {
   "cell_type": "code",
   "execution_count": 9,
   "metadata": {},
   "outputs": [],
   "source": [
    "def Performance(model):\n",
    "    #######################\n",
    "    ## Confusion Matrix  ##\n",
    "    #######################\n",
    "\n",
    "    # Predicting the Test set results\n",
    "    y_score = model.predict(X_test) #X_train X_test\n",
    "    y_pred = (y_score > 0.5)  \n",
    "\n",
    "    # Making the Confusion Matrix\n",
    "    from sklearn.metrics import confusion_matrix\n",
    "    cm = confusion_matrix(y_test, y_pred) #y_train y_test\n",
    "    #######################\n",
    "    ###    accuracy      ##\n",
    "    #######################\n",
    "    print(\"Our accuracy is {}%\".format(round(((cm[0][0] + cm[1][1])/sum(sum(cm)))*100,2)))\n",
    "\n",
    "    sns.heatmap(cm,annot=True)\n",
    "    #######################\n",
    "    ###       AUC        ##\n",
    "    #######################    \n",
    "    from sklearn.metrics import roc_auc_score\n",
    "    print(\"Our AUC is {}%\".format(round((roc_auc_score(y_test, y_score)*100),2)))\n",
    "    \n",
    "    #######################\n",
    "    ###    ROC curve     ##\n",
    "    #######################\n",
    "    import numpy as np\n",
    "    import matplotlib.pyplot as plt\n",
    "    from itertools import cycle\n",
    "\n",
    "    from sklearn import svm, datasets\n",
    "    from sklearn.metrics import roc_curve, auc, roc_auc_score\n",
    "    from sklearn.model_selection import train_test_split\n",
    "    from sklearn.preprocessing import label_binarize\n",
    "    from sklearn.multiclass import OneVsRestClassifier\n",
    "    from scipy import interp\n",
    "    # Compute ROC curve and ROC area for each class\n",
    "    fpr = dict()\n",
    "    tpr = dict()\n",
    "    roc_auc = dict()\n",
    "    n_classes =2\n",
    "    for i in range(n_classes):\n",
    "        fpr[i], tpr[i], _ = roc_curve(y_test, y_score)\n",
    "        roc_auc[i] = auc(fpr[i], tpr[i])\n",
    "\n",
    "    # Compute micro-average ROC curve and ROC area\n",
    "    fpr[\"micro\"], tpr[\"micro\"], _ = roc_curve(y_test.ravel(), y_score.ravel())\n",
    "    roc_auc[\"micro\"] = auc(fpr[\"micro\"], tpr[\"micro\"])\n",
    "\n",
    "    #Plot of a ROC curve for a specific class\n",
    "    plt.figure()\n",
    "    lw = 2\n",
    "    plt.plot(fpr[1], tpr[1], color='darkorange',\n",
    "             lw=lw, label='ROC curve (area = %0.2f)' % roc_auc[1])\n",
    "    plt.plot([0, 1], [0, 1], color='navy', lw=lw, linestyle='--')\n",
    "    plt.xlim([0.0, 1.0])\n",
    "    plt.ylim([0.0, 1.05])\n",
    "    plt.xlabel('False Positive Rate')\n",
    "    plt.ylabel('True Positive Rate')\n",
    "    plt.title('Receiver operating characteristic example')\n",
    "    plt.legend(loc=\"lower right\")\n",
    "    plt.show() "
   ]
  },
  {
   "cell_type": "markdown",
   "metadata": {
    "colab_type": "text",
    "id": "LgjIusZlzDaT",
    "toc-hr-collapsed": true
   },
   "source": [
    "# Define Keras Model"
   ]
  },
  {
   "cell_type": "code",
   "execution_count": 13,
   "metadata": {
    "colab": {
     "base_uri": "https://localhost:8080/",
     "height": 260
    },
    "colab_type": "code",
    "id": "IBrIxe5CU5Nz",
    "outputId": "14928888-e0d9-4fd6-ec41-68f80f096506"
   },
   "outputs": [],
   "source": [
    "def SummarizeHistory(modelcallbacks, prfix='', UseValid=False) :\n",
    "    \n",
    "    plt.figure()\n",
    "    plt.plot(modelcallbacks.history[prfix+'loss'])  #loss mean_absolute_error \n",
    "    if UseValid==True:\n",
    "        plt.plot(modelcallbacks.history['val_'+prfix+'loss'])  #val_loss \n",
    "    plt.title('model loss')\n",
    "    plt.ylabel('loss')\n",
    "    plt.xlabel('epoch')\n",
    "    plt.legend(['loss', 'val_loss'], loc='upper left')\n",
    "    plt.show()\n",
    "\n",
    "    plt.figure()\n",
    "    plt.plot(modelcallbacks.history[prfix+'acc'])  #loss mean_absolute_error \n",
    "    if UseValid==True:\n",
    "        plt.plot(modelcallbacks.history['val_'+prfix+'acc'])  # val_mean_absolute_error\n",
    "    plt.title('model loss')\n",
    "    plt.ylabel('loss')\n",
    "    plt.xlabel('epoch')\n",
    "    plt.legend(['accuracy', 'val_accuracy'], loc='upper left')\n",
    "    plt.show()\n",
    "    \n",
    "def ModelCompile():\n",
    "    from keras import backend as K\n",
    "    from keras.layers import Dense\n",
    "    from keras.models import Sequential, Model as keras_models_Model\n",
    "\n",
    "    K.clear_session() \n",
    "    gpu_options = tf.GPUOptions(allow_growth=True)\n",
    "    sess = tf.Session(config=tf.ConfigProto(gpu_options=gpu_options))\n",
    "    tf.keras.backend.set_session(sess)\n",
    "\n",
    "    model = Sequential()\n",
    "    model.add(Dense(round(X_train.shape[1]/2), activation='relu', input_shape=(X_train.shape[1],)))\n",
    "    model.add(Dense(round(X_train.shape[1]/2), activation='relu'))\n",
    "    model.add(Dense(round(X_train.shape[1]/4), activation='relu', name = 'IntermediateLayer'))\n",
    "    model.add(Dense(1, activation='softmax'))\n",
    "\n",
    "    model.compile(loss='categorical_crossentropy', optimizer='adam', metrics=['accuracy'])\n",
    "#     model.compile(optimizer='adam', loss='binary_crossentropy', metrics=['accuracy'])\n",
    "    model.summary()\n",
    "    return model\n",
    "\n",
    "def ModelFit(model, weights, epochs):\n",
    "    #class_weight = {0: 1., 1: 1525/2632}\n",
    "    model.set_weights(weights)\n",
    "    modelcallbacks = model.fit(X_train, y_train, epochs=epochs, batch_size=32, verbose=1,\n",
    "        validation_data = (X_val, y_val),\n",
    "        callbacks=[EarlyStopping(monitor='val_loss', patience=3, verbose=2, restore_best_weights=True)],\n",
    "        shuffle=True) #, class_weight=class_weight\n",
    "    SummarizeHistory(modelcallbacks, UseValid=True)                                        \n",
    "    weights = model.get_weights() \n",
    "    return model, weights"
   ]
  },
  {
   "cell_type": "markdown",
   "metadata": {
    "colab_type": "text",
    "id": "ULIddEh0zWGU"
   },
   "source": [
    "# Main"
   ]
  },
  {
   "cell_type": "markdown",
   "metadata": {
    "toc-hr-collapsed": true
   },
   "source": [
    "## 只用BP"
   ]
  },
  {
   "cell_type": "code",
   "execution_count": 15,
   "metadata": {},
   "outputs": [
    {
     "name": "stdout",
     "output_type": "stream",
     "text": [
      "_________________________________________________________________\n",
      "Layer (type)                 Output Shape              Param #   \n",
      "=================================================================\n",
      "dense_1 (Dense)              (None, 6)                 72        \n",
      "_________________________________________________________________\n",
      "dense_2 (Dense)              (None, 6)                 42        \n",
      "_________________________________________________________________\n",
      "IntermediateLayer (Dense)    (None, 3)                 21        \n",
      "_________________________________________________________________\n",
      "dense_3 (Dense)              (None, 1)                 4         \n",
      "=================================================================\n",
      "Total params: 139\n",
      "Trainable params: 139\n",
      "Non-trainable params: 0\n",
      "_________________________________________________________________\n",
      "Train on 4157 samples, validate on 1040 samples\n",
      "Epoch 1/150\n",
      "4157/4157 [==============================] - 1s 124us/step - loss: 23.9714 - acc: 0.0000e+00 - val_loss: 23.9990 - val_acc: 0.0000e+00\n",
      "Epoch 2/150\n",
      "4157/4157 [==============================] - 0s 90us/step - loss: 23.9714 - acc: 0.0000e+00 - val_loss: 23.9990 - val_acc: 0.0000e+00\n",
      "Epoch 3/150\n",
      "4157/4157 [==============================] - 0s 89us/step - loss: 23.9714 - acc: 0.0000e+00 - val_loss: 23.9990 - val_acc: 0.0000e+00\n",
      "Epoch 4/150\n",
      "4157/4157 [==============================] - 0s 87us/step - loss: 23.9714 - acc: 0.0000e+00 - val_loss: 23.9990 - val_acc: 0.0000e+00\n",
      "Restoring model weights from the end of the best epoch\n",
      "Epoch 00004: early stopping\n"
     ]
    },
    {
     "data": {
      "image/png": "[encoded data removed]",
      "text/plain": [
       "<Figure size 432x288 with 1 Axes>"
      ]
     },
     "metadata": {
      "needs_background": "light"
     },
     "output_type": "display_data"
    },
    {
     "data": {
      "image/png": "[encoded data removed]",
      "text/plain": [
       "<Figure size 432x288 with 1 Axes>"
      ]
     },
     "metadata": {
      "needs_background": "light"
     },
     "output_type": "display_data"
    }
   ],
   "source": [
    "#只用NN\n",
    "model = ModelCompile()\n",
    "weights = model.get_weights() \n",
    "model, weights = ModelFit(model=model, weights=weights, epochs=150)\n",
    "# Performance(model)"
   ]
  },
  {
   "cell_type": "markdown",
   "metadata": {
    "toc-hr-collapsed": true
   },
   "source": [
    "## 使用SA"
   ]
  },
  {
   "cell_type": "code",
   "execution_count": 216,
   "metadata": {},
   "outputs": [
    {
     "name": "stdout",
     "output_type": "stream",
     "text": [
      "_________________________________________________________________\n",
      "Layer (type)                 Output Shape              Param #   \n",
      "=================================================================\n",
      "dense_1 (Dense)              (None, 6)                 72        \n",
      "_________________________________________________________________\n",
      "dense_2 (Dense)              (None, 6)                 42        \n",
      "_________________________________________________________________\n",
      "IntermediateLayer (Dense)    (None, 3)                 21        \n",
      "_________________________________________________________________\n",
      "dense_3 (Dense)              (None, 1)                 4         \n",
      "=================================================================\n",
      "Total params: 139\n",
      "Trainable params: 139\n",
      "Non-trainable params: 0\n",
      "_________________________________________________________________\n",
      "Train on 4157 samples, validate on 1040 samples\n",
      "Epoch 1/20\n",
      "4157/4157 [==============================] - 1s 143us/step - loss: 2.1266 - binary_crossentropy: 2.1266 - val_loss: 1.8526 - val_binary_crossentropy: 1.8526\n",
      "Epoch 2/20\n",
      "4157/4157 [==============================] - 0s 83us/step - loss: 1.5813 - binary_crossentropy: 1.5813 - val_loss: 1.3706 - val_binary_crossentropy: 1.3706\n",
      "Epoch 3/20\n",
      "4157/4157 [==============================] - 0s 83us/step - loss: 1.1980 - binary_crossentropy: 1.1980 - val_loss: 1.0608 - val_binary_crossentropy: 1.0608\n",
      "Epoch 4/20\n",
      "4157/4157 [==============================] - 0s 83us/step - loss: 0.9515 - binary_crossentropy: 0.9515 - val_loss: 0.8665 - val_binary_crossentropy: 0.8665\n",
      "Epoch 5/20\n",
      "4157/4157 [==============================] - 0s 82us/step - loss: 0.8033 - binary_crossentropy: 0.8033 - val_loss: 0.7573 - val_binary_crossentropy: 0.7573\n",
      "Epoch 6/20\n",
      "4157/4157 [==============================] - 0s 81us/step - loss: 0.7310 - binary_crossentropy: 0.7310 - val_loss: 0.7046 - val_binary_crossentropy: 0.7046\n",
      "Epoch 7/20\n",
      "4157/4157 [==============================] - 0s 81us/step - loss: 0.6924 - binary_crossentropy: 0.6924 - val_loss: 0.6654 - val_binary_crossentropy: 0.6654\n",
      "Epoch 8/20\n",
      "4157/4157 [==============================] - 0s 83us/step - loss: 0.6626 - binary_crossentropy: 0.6626 - val_loss: 0.6362 - val_binary_crossentropy: 0.6362\n",
      "Epoch 9/20\n",
      "4157/4157 [==============================] - 0s 82us/step - loss: 0.6394 - binary_crossentropy: 0.6394 - val_loss: 0.6155 - val_binary_crossentropy: 0.6155\n",
      "Epoch 10/20\n",
      "4157/4157 [==============================] - 0s 81us/step - loss: 0.6210 - binary_crossentropy: 0.6210 - val_loss: 0.6003 - val_binary_crossentropy: 0.6003\n",
      "Epoch 11/20\n",
      "4157/4157 [==============================] - 0s 82us/step - loss: 0.6065 - binary_crossentropy: 0.6065 - val_loss: 0.5891 - val_binary_crossentropy: 0.5891\n",
      "Epoch 12/20\n",
      "4157/4157 [==============================] - 0s 81us/step - loss: 0.5951 - binary_crossentropy: 0.5951 - val_loss: 0.5798 - val_binary_crossentropy: 0.5798\n",
      "Epoch 13/20\n",
      "4157/4157 [==============================] - 0s 82us/step - loss: 0.5864 - binary_crossentropy: 0.5864 - val_loss: 0.5724 - val_binary_crossentropy: 0.5724\n",
      "Epoch 14/20\n",
      "4157/4157 [==============================] - 0s 80us/step - loss: 0.5772 - binary_crossentropy: 0.5772 - val_loss: 0.5649 - val_binary_crossentropy: 0.5649\n",
      "Epoch 15/20\n",
      "4157/4157 [==============================] - 0s 81us/step - loss: 0.5677 - binary_crossentropy: 0.5677 - val_loss: 0.5588 - val_binary_crossentropy: 0.5588\n",
      "Epoch 16/20\n",
      "4157/4157 [==============================] - 0s 82us/step - loss: 0.5596 - binary_crossentropy: 0.5596 - val_loss: 0.5533 - val_binary_crossentropy: 0.5533\n",
      "Epoch 17/20\n",
      "4157/4157 [==============================] - 0s 86us/step - loss: 0.5529 - binary_crossentropy: 0.5529 - val_loss: 0.5496 - val_binary_crossentropy: 0.5496\n",
      "Epoch 18/20\n",
      "4157/4157 [==============================] - 0s 93us/step - loss: 0.5480 - binary_crossentropy: 0.5480 - val_loss: 0.5459 - val_binary_crossentropy: 0.5459\n",
      "Epoch 19/20\n",
      "4157/4157 [==============================] - 0s 91us/step - loss: 0.5440 - binary_crossentropy: 0.5440 - val_loss: 0.5431 - val_binary_crossentropy: 0.5431\n",
      "Epoch 20/20\n",
      "4157/4157 [==============================] - 0s 78us/step - loss: 0.5411 - binary_crossentropy: 0.5411 - val_loss: 0.5404 - val_binary_crossentropy: 0.5404\n",
      "fail!\n",
      "Train on 4157 samples, validate on 1040 samples\n",
      "Epoch 1/20\n",
      "4157/4157 [==============================] - 0s 83us/step - loss: 0.5384 - binary_crossentropy: 0.5384 - val_loss: 0.5386 - val_binary_crossentropy: 0.5386\n",
      "Epoch 2/20\n",
      "4157/4157 [==============================] - 0s 87us/step - loss: 0.5366 - binary_crossentropy: 0.5366 - val_loss: 0.5368 - val_binary_crossentropy: 0.5368\n",
      "Epoch 3/20\n",
      "4157/4157 [==============================] - 0s 87us/step - loss: 0.5342 - binary_crossentropy: 0.5342 - val_loss: 0.5352 - val_binary_crossentropy: 0.5352\n",
      "Epoch 4/20\n",
      "4157/4157 [==============================] - 1s 126us/step - loss: 0.5326 - binary_crossentropy: 0.5326 - val_loss: 0.5341 - val_binary_crossentropy: 0.5341\n",
      "Epoch 5/20\n",
      "4157/4157 [==============================] - 0s 102us/step - loss: 0.5310 - binary_crossentropy: 0.5310 - val_loss: 0.5344 - val_binary_crossentropy: 0.5344\n",
      "Epoch 6/20\n",
      "4157/4157 [==============================] - 0s 91us/step - loss: 0.5293 - binary_crossentropy: 0.5293 - val_loss: 0.5319 - val_binary_crossentropy: 0.5319\n",
      "Epoch 7/20\n",
      "4157/4157 [==============================] - 0s 90us/step - loss: 0.5282 - binary_crossentropy: 0.5282 - val_loss: 0.5301 - val_binary_crossentropy: 0.5301\n",
      "Epoch 8/20\n",
      "4157/4157 [==============================] - 0s 84us/step - loss: 0.5269 - binary_crossentropy: 0.5269 - val_loss: 0.5288 - val_binary_crossentropy: 0.5288\n",
      "Epoch 9/20\n",
      "4157/4157 [==============================] - 0s 89us/step - loss: 0.5258 - binary_crossentropy: 0.5258 - val_loss: 0.5290 - val_binary_crossentropy: 0.5290\n",
      "Epoch 10/20\n",
      "4157/4157 [==============================] - 0s 79us/step - loss: 0.5247 - binary_crossentropy: 0.5247 - val_loss: 0.5274 - val_binary_crossentropy: 0.5274\n",
      "Epoch 11/20\n",
      "4157/4157 [==============================] - 0s 82us/step - loss: 0.5233 - binary_crossentropy: 0.5233 - val_loss: 0.5281 - val_binary_crossentropy: 0.5281\n",
      "Epoch 12/20\n",
      "4157/4157 [==============================] - 0s 84us/step - loss: 0.5226 - binary_crossentropy: 0.5226 - val_loss: 0.5260 - val_binary_crossentropy: 0.5260\n",
      "Epoch 13/20\n",
      "4157/4157 [==============================] - 0s 81us/step - loss: 0.5216 - binary_crossentropy: 0.5216 - val_loss: 0.5252 - val_binary_crossentropy: 0.5252\n",
      "Epoch 14/20\n",
      "4157/4157 [==============================] - 0s 90us/step - loss: 0.5208 - binary_crossentropy: 0.5208 - val_loss: 0.5241 - val_binary_crossentropy: 0.5241\n",
      "Epoch 15/20\n",
      "4157/4157 [==============================] - 0s 82us/step - loss: 0.5203 - binary_crossentropy: 0.5203 - val_loss: 0.5235 - val_binary_crossentropy: 0.5235\n",
      "Epoch 16/20\n",
      "4157/4157 [==============================] - 0s 85us/step - loss: 0.5196 - binary_crossentropy: 0.5196 - val_loss: 0.5244 - val_binary_crossentropy: 0.5244\n",
      "Epoch 17/20\n",
      "4157/4157 [==============================] - 0s 84us/step - loss: 0.5188 - binary_crossentropy: 0.5188 - val_loss: 0.5222 - val_binary_crossentropy: 0.5222\n",
      "Epoch 18/20\n",
      "4157/4157 [==============================] - 0s 81us/step - loss: 0.5181 - binary_crossentropy: 0.5181 - val_loss: 0.5220 - val_binary_crossentropy: 0.5220\n",
      "Epoch 19/20\n",
      "4157/4157 [==============================] - 0s 86us/step - loss: 0.5174 - binary_crossentropy: 0.5174 - val_loss: 0.5218 - val_binary_crossentropy: 0.5218\n",
      "Epoch 20/20\n",
      "4157/4157 [==============================] - 0s 80us/step - loss: 0.5166 - binary_crossentropy: 0.5166 - val_loss: 0.5222 - val_binary_crossentropy: 0.5222\n",
      "improve!\n",
      "Train on 4157 samples, validate on 1040 samples\n",
      "Epoch 1/20\n",
      "4157/4157 [==============================] - 0s 79us/step - loss: 0.7212 - binary_crossentropy: 0.7212 - val_loss: 0.5827 - val_binary_crossentropy: 0.5827\n",
      "Epoch 2/20\n",
      "4157/4157 [==============================] - 0s 79us/step - loss: 0.5452 - binary_crossentropy: 0.5452 - val_loss: 0.5652 - val_binary_crossentropy: 0.5652\n",
      "Epoch 3/20\n",
      "4157/4157 [==============================] - 0s 80us/step - loss: 0.5332 - binary_crossentropy: 0.5332 - val_loss: 0.5552 - val_binary_crossentropy: 0.5552\n"
     ]
    },
    {
     "name": "stdout",
     "output_type": "stream",
     "text": [
      "Epoch 4/20\n",
      "4157/4157 [==============================] - 0s 80us/step - loss: 0.5277 - binary_crossentropy: 0.5277 - val_loss: 0.5517 - val_binary_crossentropy: 0.5517\n",
      "Epoch 5/20\n",
      "4157/4157 [==============================] - 0s 79us/step - loss: 0.5238 - binary_crossentropy: 0.5238 - val_loss: 0.5469 - val_binary_crossentropy: 0.5469\n",
      "Epoch 6/20\n",
      "4157/4157 [==============================] - 0s 80us/step - loss: 0.5208 - binary_crossentropy: 0.5208 - val_loss: 0.5448 - val_binary_crossentropy: 0.5448\n",
      "Epoch 7/20\n",
      "4157/4157 [==============================] - 0s 81us/step - loss: 0.5190 - binary_crossentropy: 0.5190 - val_loss: 0.5419 - val_binary_crossentropy: 0.5419\n",
      "Epoch 8/20\n",
      "4157/4157 [==============================] - 0s 80us/step - loss: 0.5172 - binary_crossentropy: 0.5172 - val_loss: 0.5412 - val_binary_crossentropy: 0.5412\n",
      "Epoch 9/20\n",
      "4157/4157 [==============================] - 0s 80us/step - loss: 0.5160 - binary_crossentropy: 0.5160 - val_loss: 0.5395 - val_binary_crossentropy: 0.5395\n",
      "Epoch 10/20\n",
      "4157/4157 [==============================] - 0s 79us/step - loss: 0.5146 - binary_crossentropy: 0.5146 - val_loss: 0.5389 - val_binary_crossentropy: 0.5389\n",
      "Epoch 11/20\n",
      "4157/4157 [==============================] - 0s 79us/step - loss: 0.5135 - binary_crossentropy: 0.5135 - val_loss: 0.5382 - val_binary_crossentropy: 0.5382\n",
      "Epoch 12/20\n",
      "4157/4157 [==============================] - 0s 80us/step - loss: 0.5124 - binary_crossentropy: 0.5124 - val_loss: 0.5372 - val_binary_crossentropy: 0.5372\n",
      "Epoch 13/20\n",
      "4157/4157 [==============================] - 0s 81us/step - loss: 0.5114 - binary_crossentropy: 0.5114 - val_loss: 0.5372 - val_binary_crossentropy: 0.5372\n",
      "Epoch 14/20\n",
      "4157/4157 [==============================] - 0s 79us/step - loss: 0.5102 - binary_crossentropy: 0.5102 - val_loss: 0.5359 - val_binary_crossentropy: 0.5359\n",
      "Epoch 15/20\n",
      "4157/4157 [==============================] - 0s 77us/step - loss: 0.5100 - binary_crossentropy: 0.5100 - val_loss: 0.5346 - val_binary_crossentropy: 0.5346\n",
      "Epoch 16/20\n",
      "4157/4157 [==============================] - 0s 77us/step - loss: 0.5087 - binary_crossentropy: 0.5087 - val_loss: 0.5348 - val_binary_crossentropy: 0.5348\n",
      "Epoch 17/20\n",
      "4157/4157 [==============================] - 0s 79us/step - loss: 0.5087 - binary_crossentropy: 0.5087 - val_loss: 0.5333 - val_binary_crossentropy: 0.5333\n",
      "Epoch 18/20\n",
      "4157/4157 [==============================] - 0s 83us/step - loss: 0.5079 - binary_crossentropy: 0.5079 - val_loss: 0.5319 - val_binary_crossentropy: 0.5319\n",
      "Epoch 19/20\n",
      "4157/4157 [==============================] - 0s 81us/step - loss: 0.5072 - binary_crossentropy: 0.5072 - val_loss: 0.5327 - val_binary_crossentropy: 0.5327\n",
      "Epoch 20/20\n",
      "4157/4157 [==============================] - 0s 83us/step - loss: 0.5072 - binary_crossentropy: 0.5072 - val_loss: 0.5320 - val_binary_crossentropy: 0.5320\n",
      "fail!\n",
      "Train on 4157 samples, validate on 1040 samples\n",
      "Epoch 1/20\n",
      "4157/4157 [==============================] - 0s 80us/step - loss: 0.5067 - binary_crossentropy: 0.5067 - val_loss: 0.5295 - val_binary_crossentropy: 0.5295\n",
      "Epoch 2/20\n",
      "4157/4157 [==============================] - 0s 80us/step - loss: 0.5062 - binary_crossentropy: 0.5062 - val_loss: 0.5306 - val_binary_crossentropy: 0.5306\n",
      "Epoch 3/20\n",
      "4157/4157 [==============================] - 0s 80us/step - loss: 0.5053 - binary_crossentropy: 0.5053 - val_loss: 0.5314 - val_binary_crossentropy: 0.5314\n",
      "Epoch 4/20\n",
      "4157/4157 [==============================] - 0s 79us/step - loss: 0.5051 - binary_crossentropy: 0.5051 - val_loss: 0.5303 - val_binary_crossentropy: 0.5303\n",
      "Restoring model weights from the end of the best epoch\n",
      "Epoch 00004: early stopping\n",
      "fail!\n",
      "Train on 4157 samples, validate on 1040 samples\n",
      "Epoch 1/20\n",
      "4157/4157 [==============================] - 0s 81us/step - loss: 0.5059 - binary_crossentropy: 0.5059 - val_loss: 0.5321 - val_binary_crossentropy: 0.5321\n",
      "Epoch 2/20\n",
      "4157/4157 [==============================] - 0s 82us/step - loss: 0.5055 - binary_crossentropy: 0.5055 - val_loss: 0.5304 - val_binary_crossentropy: 0.5304\n",
      "Epoch 3/20\n",
      "4157/4157 [==============================] - 0s 82us/step - loss: 0.5053 - binary_crossentropy: 0.5053 - val_loss: 0.5300 - val_binary_crossentropy: 0.5300\n",
      "Epoch 4/20\n",
      "4157/4157 [==============================] - 0s 79us/step - loss: 0.5050 - binary_crossentropy: 0.5050 - val_loss: 0.5282 - val_binary_crossentropy: 0.5282\n",
      "Epoch 5/20\n",
      "4157/4157 [==============================] - 0s 79us/step - loss: 0.5042 - binary_crossentropy: 0.5042 - val_loss: 0.5282 - val_binary_crossentropy: 0.5282\n",
      "Epoch 6/20\n",
      "4157/4157 [==============================] - 0s 81us/step - loss: 0.5039 - binary_crossentropy: 0.5039 - val_loss: 0.5297 - val_binary_crossentropy: 0.5297\n",
      "Epoch 7/20\n",
      "4157/4157 [==============================] - 0s 80us/step - loss: 0.5039 - binary_crossentropy: 0.5039 - val_loss: 0.5283 - val_binary_crossentropy: 0.5283\n",
      "Restoring model weights from the end of the best epoch\n",
      "Epoch 00007: early stopping\n",
      "fail!\n",
      "Train on 4157 samples, validate on 1040 samples\n",
      "Epoch 1/20\n",
      "4157/4157 [==============================] - 0s 79us/step - loss: 0.5044 - binary_crossentropy: 0.5044 - val_loss: 0.5296 - val_binary_crossentropy: 0.5296\n",
      "Epoch 2/20\n",
      "4157/4157 [==============================] - 0s 82us/step - loss: 0.5041 - binary_crossentropy: 0.5041 - val_loss: 0.5296 - val_binary_crossentropy: 0.5296\n",
      "Epoch 3/20\n",
      "4157/4157 [==============================] - 0s 85us/step - loss: 0.5038 - binary_crossentropy: 0.5038 - val_loss: 0.5280 - val_binary_crossentropy: 0.5280\n",
      "Epoch 4/20\n",
      "4157/4157 [==============================] - 0s 82us/step - loss: 0.5035 - binary_crossentropy: 0.5035 - val_loss: 0.5283 - val_binary_crossentropy: 0.5283\n",
      "Epoch 5/20\n",
      "4157/4157 [==============================] - 0s 86us/step - loss: 0.5029 - binary_crossentropy: 0.5029 - val_loss: 0.5277 - val_binary_crossentropy: 0.5277\n",
      "Epoch 6/20\n",
      "4157/4157 [==============================] - 0s 81us/step - loss: 0.5024 - binary_crossentropy: 0.5024 - val_loss: 0.5283 - val_binary_crossentropy: 0.5283\n",
      "Epoch 7/20\n",
      "4157/4157 [==============================] - 0s 83us/step - loss: 0.5026 - binary_crossentropy: 0.5026 - val_loss: 0.5278 - val_binary_crossentropy: 0.5278\n",
      "Epoch 8/20\n",
      "4157/4157 [==============================] - 0s 83us/step - loss: 0.5021 - binary_crossentropy: 0.5021 - val_loss: 0.5261 - val_binary_crossentropy: 0.5261\n",
      "Epoch 9/20\n",
      "4157/4157 [==============================] - 0s 82us/step - loss: 0.5017 - binary_crossentropy: 0.5017 - val_loss: 0.5273 - val_binary_crossentropy: 0.5273\n",
      "Epoch 10/20\n",
      "4157/4157 [==============================] - 0s 84us/step - loss: 0.5015 - binary_crossentropy: 0.5015 - val_loss: 0.5247 - val_binary_crossentropy: 0.5247\n",
      "Epoch 11/20\n",
      "4157/4157 [==============================] - 0s 90us/step - loss: 0.5009 - binary_crossentropy: 0.5009 - val_loss: 0.5252 - val_binary_crossentropy: 0.5252\n",
      "Epoch 12/20\n",
      "4157/4157 [==============================] - 0s 83us/step - loss: 0.5009 - binary_crossentropy: 0.5009 - val_loss: 0.5258 - val_binary_crossentropy: 0.5258\n",
      "Epoch 13/20\n",
      "4157/4157 [==============================] - 0s 83us/step - loss: 0.5003 - binary_crossentropy: 0.5003 - val_loss: 0.5236 - val_binary_crossentropy: 0.5236\n",
      "Epoch 14/20\n",
      "4157/4157 [==============================] - 0s 83us/step - loss: 0.5005 - binary_crossentropy: 0.5005 - val_loss: 0.5247 - val_binary_crossentropy: 0.5247\n",
      "Epoch 15/20\n",
      "4157/4157 [==============================] - 0s 79us/step - loss: 0.5004 - binary_crossentropy: 0.5004 - val_loss: 0.5249 - val_binary_crossentropy: 0.5249\n",
      "Epoch 16/20\n",
      "4157/4157 [==============================] - 0s 80us/step - loss: 0.4996 - binary_crossentropy: 0.4996 - val_loss: 0.5246 - val_binary_crossentropy: 0.5246\n",
      "Restoring model weights from the end of the best epoch\n",
      "Epoch 00016: early stopping\n",
      "fail!\n",
      "Train on 4157 samples, validate on 1040 samples\n",
      "Epoch 1/20\n",
      "4157/4157 [==============================] - 0s 84us/step - loss: 0.5002 - binary_crossentropy: 0.5002 - val_loss: 0.5250 - val_binary_crossentropy: 0.5250\n",
      "Epoch 2/20\n",
      "4157/4157 [==============================] - 0s 79us/step - loss: 0.5001 - binary_crossentropy: 0.5001 - val_loss: 0.5247 - val_binary_crossentropy: 0.5247\n",
      "Epoch 3/20\n"
     ]
    },
    {
     "name": "stdout",
     "output_type": "stream",
     "text": [
      "4157/4157 [==============================] - 0s 79us/step - loss: 0.4998 - binary_crossentropy: 0.4998 - val_loss: 0.5243 - val_binary_crossentropy: 0.5243\n",
      "Epoch 4/20\n",
      "4157/4157 [==============================] - 0s 81us/step - loss: 0.4994 - binary_crossentropy: 0.4994 - val_loss: 0.5227 - val_binary_crossentropy: 0.5227\n",
      "Epoch 5/20\n",
      "4157/4157 [==============================] - 0s 79us/step - loss: 0.4992 - binary_crossentropy: 0.4992 - val_loss: 0.5227 - val_binary_crossentropy: 0.5227\n",
      "Epoch 6/20\n",
      "4157/4157 [==============================] - 0s 80us/step - loss: 0.4991 - binary_crossentropy: 0.4991 - val_loss: 0.5219 - val_binary_crossentropy: 0.5219\n",
      "Epoch 7/20\n",
      "4157/4157 [==============================] - 0s 81us/step - loss: 0.4989 - binary_crossentropy: 0.4989 - val_loss: 0.5232 - val_binary_crossentropy: 0.5232\n",
      "Epoch 8/20\n",
      "4157/4157 [==============================] - 0s 82us/step - loss: 0.4988 - binary_crossentropy: 0.4988 - val_loss: 0.5238 - val_binary_crossentropy: 0.5238\n",
      "Epoch 9/20\n",
      "4157/4157 [==============================] - 0s 82us/step - loss: 0.4988 - binary_crossentropy: 0.4988 - val_loss: 0.5189 - val_binary_crossentropy: 0.5189\n",
      "Epoch 10/20\n",
      "4157/4157 [==============================] - 0s 82us/step - loss: 0.4986 - binary_crossentropy: 0.4986 - val_loss: 0.5207 - val_binary_crossentropy: 0.5207\n",
      "Epoch 11/20\n",
      "4157/4157 [==============================] - 0s 82us/step - loss: 0.4984 - binary_crossentropy: 0.4984 - val_loss: 0.5218 - val_binary_crossentropy: 0.5218\n",
      "Epoch 12/20\n",
      "4157/4157 [==============================] - 0s 80us/step - loss: 0.4981 - binary_crossentropy: 0.4981 - val_loss: 0.5198 - val_binary_crossentropy: 0.5198\n",
      "Restoring model weights from the end of the best epoch\n",
      "Epoch 00012: early stopping\n",
      "fail!\n"
     ]
    }
   ],
   "source": [
    "# Initialize\n",
    "model = ModelCompile()\n",
    "init_weights = model.get_weights() \n",
    "structure, weights =FlattenWeights(init_weights) # 拉平初始權重\n",
    "Optimize_SA(model = model, score=score,init_weights=weights,structure=structure,iterL=100) # SA 找一個好的初始解\n",
    "\n",
    "BestAUC = score(model)\n",
    "BestWeight = model.get_weights()\n",
    "NoImproveTimes = 0\n",
    "\n",
    "while True :\n",
    "    \n",
    "    #BP\n",
    "    weights = model.get_weights() \n",
    "    model, weights = ModelFit(model=model, weights=weights, epochs=20)\n",
    "    old_score = score(model)\n",
    "    \n",
    "    #丟進SA優化\n",
    "    init_weights = model.get_weights()\n",
    "    structure, weights =FlattenWeights(init_weights) # 拉平初始權重\n",
    "    Optimize_SA(model = model, score=score,init_weights=weights,structure=structure,iterL=1000) # SA 找一個好的初始解\n",
    "    new_score = score(model)\n",
    "    \n",
    "    #比較AUC 有無進步\n",
    "    if new_score > old_score:\n",
    "        BestAUC = score(model)\n",
    "        BestWeight = model.get_weights()\n",
    "        NoImproveTimes = 0\n",
    "        print(\"improve!\")\n",
    "    else: \n",
    "        model.set_weights(init_weights)\n",
    "        NoImproveTimes = NoImproveTimes + 1\n",
    "        print(\"fail!\")\n",
    "        if NoImproveTimes == 5:\n",
    "            break"
   ]
  },
  {
   "cell_type": "code",
   "execution_count": 217,
   "metadata": {},
   "outputs": [
    {
     "name": "stdout",
     "output_type": "stream",
     "text": [
      "Our accuracy is 76.08%\n",
      "Our AUC is 81.39%\n"
     ]
    },
    {
     "data": {
      "image/png": "[encoded data removed]",
      "text/plain": [
       "<Figure size 432x288 with 2 Axes>"
      ]
     },
     "metadata": {
      "needs_background": "light"
     },
     "output_type": "display_data"
    },
    {
     "data": {
      "image/png": "[encoded data removed]",
      "text/plain": [
       "<Figure size 432x288 with 1 Axes>"
      ]
     },
     "metadata": {
      "needs_background": "light"
     },
     "output_type": "display_data"
    }
   ],
   "source": [
    "Performance(model)"
   ]
  },
  {
   "cell_type": "markdown",
   "metadata": {},
   "source": [
    "# Experiments"
   ]
  },
  {
   "cell_type": "code",
   "execution_count": 190,
   "metadata": {},
   "outputs": [
    {
     "name": "stdout",
     "output_type": "stream",
     "text": [
      "_________________________________________________________________\n",
      "Layer (type)                 Output Shape              Param #   \n",
      "=================================================================\n",
      "dense_1 (Dense)              (None, 6)                 72        \n",
      "_________________________________________________________________\n",
      "dense_2 (Dense)              (None, 6)                 42        \n",
      "_________________________________________________________________\n",
      "IntermediateLayer (Dense)    (None, 3)                 21        \n",
      "_________________________________________________________________\n",
      "dense_3 (Dense)              (None, 1)                 4         \n",
      "=================================================================\n",
      "Total params: 139\n",
      "Trainable params: 139\n",
      "Non-trainable params: 0\n",
      "_________________________________________________________________\n"
     ]
    }
   ],
   "source": [
    "# Initialize\n",
    "model = ModelCompile()\n",
    "init_weights = model.get_weights() "
   ]
  },
  {
   "cell_type": "code",
   "execution_count": 191,
   "metadata": {},
   "outputs": [],
   "source": [
    "structure, weights =FlattenWeights(init_weights) # 拉平初始權重"
   ]
  },
  {
   "cell_type": "code",
   "execution_count": 192,
   "metadata": {},
   "outputs": [
    {
     "name": "stdout",
     "output_type": "stream",
     "text": [
      "Our accuracy is 64.15%\n",
      "Our AUC is 40.12%\n"
     ]
    },
    {
     "data": {
      "image/png": "[encoded data removed]",
      "text/plain": [
       "<Figure size 432x288 with 2 Axes>"
      ]
     },
     "metadata": {
      "needs_background": "light"
     },
     "output_type": "display_data"
    },
    {
     "data": {
      "image/png": "[encoded data removed]",
      "text/plain": [
       "<Figure size 432x288 with 1 Axes>"
      ]
     },
     "metadata": {
      "needs_background": "light"
     },
     "output_type": "display_data"
    }
   ],
   "source": [
    "Performance(model)"
   ]
  },
  {
   "cell_type": "code",
   "execution_count": 193,
   "metadata": {},
   "outputs": [
    {
     "data": {
      "text/plain": [
       "40.12"
      ]
     },
     "execution_count": 193,
     "metadata": {},
     "output_type": "execute_result"
    }
   ],
   "source": [
    "score(model)"
   ]
  },
  {
   "cell_type": "code",
   "execution_count": 194,
   "metadata": {},
   "outputs": [
    {
     "data": {
      "text/plain": [
       "<keras.engine.sequential.Sequential at 0x22151961828>"
      ]
     },
     "execution_count": 194,
     "metadata": {},
     "output_type": "execute_result"
    }
   ],
   "source": [
    "Optimize_SA(model = model, score=score,init_weights=weights,structure=structure)"
   ]
  },
  {
   "cell_type": "code",
   "execution_count": 195,
   "metadata": {},
   "outputs": [
    {
     "data": {
      "text/plain": [
       "80.88"
      ]
     },
     "execution_count": 195,
     "metadata": {},
     "output_type": "execute_result"
    }
   ],
   "source": [
    "score(model)"
   ]
  },
  {
   "cell_type": "code",
   "execution_count": 196,
   "metadata": {},
   "outputs": [
    {
     "name": "stdout",
     "output_type": "stream",
     "text": [
      "Our accuracy is 71.69%\n",
      "Our AUC is 80.88%\n"
     ]
    },
    {
     "data": {
      "image/png": "[encoded data removed]",
      "text/plain": [
       "<Figure size 432x288 with 2 Axes>"
      ]
     },
     "metadata": {
      "needs_background": "light"
     },
     "output_type": "display_data"
    },
    {
     "data": {
      "image/png": "[encoded data removed]",
      "text/plain": [
       "<Figure size 432x288 with 1 Axes>"
      ]
     },
     "metadata": {
      "needs_background": "light"
     },
     "output_type": "display_data"
    }
   ],
   "source": [
    "Performance(model)"
   ]
  },
  {
   "cell_type": "markdown",
   "metadata": {},
   "source": [
    "# 使用BP做後續訓練"
   ]
  },
  {
   "cell_type": "code",
   "execution_count": 197,
   "metadata": {},
   "outputs": [
    {
     "name": "stdout",
     "output_type": "stream",
     "text": [
      "Train on 4157 samples, validate on 1040 samples\n",
      "Epoch 1/150\n",
      "4157/4157 [==============================] - 1s 138us/step - loss: 1.2902 - binary_crossentropy: 1.2902 - val_loss: 0.9709 - val_binary_crossentropy: 0.9709\n",
      "Epoch 2/150\n",
      "4157/4157 [==============================] - 0s 85us/step - loss: 0.8215 - binary_crossentropy: 0.8215 - val_loss: 0.6704 - val_binary_crossentropy: 0.6704\n",
      "Epoch 3/150\n",
      "4157/4157 [==============================] - 0s 86us/step - loss: 0.6191 - binary_crossentropy: 0.6191 - val_loss: 0.5684 - val_binary_crossentropy: 0.5684\n",
      "Epoch 4/150\n",
      "4157/4157 [==============================] - 0s 84us/step - loss: 0.5673 - binary_crossentropy: 0.5673 - val_loss: 0.5424 - val_binary_crossentropy: 0.5424\n",
      "Epoch 5/150\n",
      "4157/4157 [==============================] - 0s 84us/step - loss: 0.5495 - binary_crossentropy: 0.5495 - val_loss: 0.5311 - val_binary_crossentropy: 0.5311\n",
      "Epoch 6/150\n",
      "4157/4157 [==============================] - 0s 84us/step - loss: 0.5405 - binary_crossentropy: 0.5405 - val_loss: 0.5237 - val_binary_crossentropy: 0.5237\n",
      "Epoch 7/150\n",
      "4157/4157 [==============================] - 0s 84us/step - loss: 0.5346 - binary_crossentropy: 0.5346 - val_loss: 0.5184 - val_binary_crossentropy: 0.5184\n",
      "Epoch 8/150\n",
      "4157/4157 [==============================] - 0s 83us/step - loss: 0.5287 - binary_crossentropy: 0.5287 - val_loss: 0.5148 - val_binary_crossentropy: 0.5148\n",
      "Epoch 9/150\n",
      "4157/4157 [==============================] - 0s 83us/step - loss: 0.5244 - binary_crossentropy: 0.5244 - val_loss: 0.5123 - val_binary_crossentropy: 0.5123\n",
      "Epoch 10/150\n",
      "4157/4157 [==============================] - 0s 82us/step - loss: 0.5216 - binary_crossentropy: 0.5216 - val_loss: 0.5106 - val_binary_crossentropy: 0.5106\n",
      "Epoch 11/150\n",
      "4157/4157 [==============================] - 0s 83us/step - loss: 0.5202 - binary_crossentropy: 0.5202 - val_loss: 0.5096 - val_binary_crossentropy: 0.5096\n",
      "Epoch 12/150\n",
      "4157/4157 [==============================] - 0s 83us/step - loss: 0.5192 - binary_crossentropy: 0.5192 - val_loss: 0.5075 - val_binary_crossentropy: 0.5075\n",
      "Epoch 13/150\n",
      "4157/4157 [==============================] - 0s 81us/step - loss: 0.5177 - binary_crossentropy: 0.5177 - val_loss: 0.5065 - val_binary_crossentropy: 0.5065\n",
      "Epoch 14/150\n",
      "4157/4157 [==============================] - 0s 83us/step - loss: 0.5171 - binary_crossentropy: 0.5171 - val_loss: 0.5057 - val_binary_crossentropy: 0.5057\n",
      "Epoch 15/150\n",
      "4157/4157 [==============================] - 0s 79us/step - loss: 0.5162 - binary_crossentropy: 0.5162 - val_loss: 0.5047 - val_binary_crossentropy: 0.5047\n",
      "Epoch 16/150\n",
      "4157/4157 [==============================] - 0s 85us/step - loss: 0.5155 - binary_crossentropy: 0.5155 - val_loss: 0.5028 - val_binary_crossentropy: 0.5028\n",
      "Epoch 17/150\n",
      "4157/4157 [==============================] - 0s 83us/step - loss: 0.5144 - binary_crossentropy: 0.5144 - val_loss: 0.5019 - val_binary_crossentropy: 0.5019\n",
      "Epoch 18/150\n",
      "4157/4157 [==============================] - 0s 80us/step - loss: 0.5136 - binary_crossentropy: 0.5136 - val_loss: 0.5009 - val_binary_crossentropy: 0.5009\n",
      "Epoch 19/150\n",
      "4157/4157 [==============================] - 0s 84us/step - loss: 0.5131 - binary_crossentropy: 0.5131 - val_loss: 0.5008 - val_binary_crossentropy: 0.5008\n",
      "Epoch 20/150\n",
      "4157/4157 [==============================] - 0s 97us/step - loss: 0.5124 - binary_crossentropy: 0.5124 - val_loss: 0.4986 - val_binary_crossentropy: 0.4986\n",
      "Epoch 21/150\n",
      "4157/4157 [==============================] - 0s 83us/step - loss: 0.5120 - binary_crossentropy: 0.5120 - val_loss: 0.4984 - val_binary_crossentropy: 0.4984\n",
      "Epoch 22/150\n",
      "4157/4157 [==============================] - 0s 98us/step - loss: 0.5113 - binary_crossentropy: 0.5113 - val_loss: 0.4977 - val_binary_crossentropy: 0.4977\n",
      "Epoch 23/150\n",
      "4157/4157 [==============================] - 0s 86us/step - loss: 0.5112 - binary_crossentropy: 0.5112 - val_loss: 0.4979 - val_binary_crossentropy: 0.4979\n",
      "Epoch 24/150\n",
      "4157/4157 [==============================] - 0s 82us/step - loss: 0.5100 - binary_crossentropy: 0.5100 - val_loss: 0.4961 - val_binary_crossentropy: 0.4961\n",
      "Epoch 25/150\n",
      "4157/4157 [==============================] - 0s 80us/step - loss: 0.5091 - binary_crossentropy: 0.5091 - val_loss: 0.4969 - val_binary_crossentropy: 0.4969\n",
      "Epoch 26/150\n",
      "4157/4157 [==============================] - 0s 83us/step - loss: 0.5090 - binary_crossentropy: 0.5090 - val_loss: 0.4952 - val_binary_crossentropy: 0.4952\n",
      "Epoch 27/150\n",
      "4157/4157 [==============================] - 0s 82us/step - loss: 0.5088 - binary_crossentropy: 0.5088 - val_loss: 0.4955 - val_binary_crossentropy: 0.4955\n",
      "Epoch 28/150\n",
      "4157/4157 [==============================] - 0s 83us/step - loss: 0.5082 - binary_crossentropy: 0.5082 - val_loss: 0.4936 - val_binary_crossentropy: 0.4936\n",
      "Epoch 29/150\n",
      "4157/4157 [==============================] - 0s 84us/step - loss: 0.5077 - binary_crossentropy: 0.5077 - val_loss: 0.4929 - val_binary_crossentropy: 0.4929\n",
      "Epoch 30/150\n",
      "4157/4157 [==============================] - 0s 84us/step - loss: 0.5075 - binary_crossentropy: 0.5075 - val_loss: 0.4923 - val_binary_crossentropy: 0.4923\n",
      "Epoch 31/150\n",
      "4157/4157 [==============================] - 0s 85us/step - loss: 0.5071 - binary_crossentropy: 0.5071 - val_loss: 0.4926 - val_binary_crossentropy: 0.4926\n",
      "Epoch 32/150\n",
      "4157/4157 [==============================] - 0s 80us/step - loss: 0.5070 - binary_crossentropy: 0.5070 - val_loss: 0.4926 - val_binary_crossentropy: 0.4926\n",
      "Epoch 33/150\n",
      "4157/4157 [==============================] - 0s 83us/step - loss: 0.5064 - binary_crossentropy: 0.5064 - val_loss: 0.4924 - val_binary_crossentropy: 0.4924\n",
      "Restoring model weights from the end of the best epoch\n",
      "Epoch 00033: early stopping\n"
     ]
    }
   ],
   "source": [
    "weights = model.get_weights() \n",
    "model, weights = ModelFit(model=model, weights=weights, epochs=150)"
   ]
  },
  {
   "cell_type": "code",
   "execution_count": 199,
   "metadata": {},
   "outputs": [
    {
     "name": "stdout",
     "output_type": "stream",
     "text": [
      "Our accuracy is 74.62%\n",
      "Our AUC is 80.2%\n"
     ]
    },
    {
     "data": {
      "image/png": "[encoded data removed]",
      "text/plain": [
       "<Figure size 432x288 with 2 Axes>"
      ]
     },
     "metadata": {
      "needs_background": "light"
     },
     "output_type": "display_data"
    },
    {
     "data": {
      "image/png": "[encoded data removed]",
      "text/plain": [
       "<Figure size 432x288 with 1 Axes>"
      ]
     },
     "metadata": {
      "needs_background": "light"
     },
     "output_type": "display_data"
    }
   ],
   "source": [
    "Performance(model)"
   ]
  },
  {
   "cell_type": "markdown",
   "metadata": {},
   "source": [
    "# 再丟回SA"
   ]
  },
  {
   "cell_type": "code",
   "execution_count": 200,
   "metadata": {},
   "outputs": [],
   "source": [
    "init_weights = model.get_weights()\n",
    "structure, weights =FlattenWeights(init_weights) # 拉平初始權重"
   ]
  },
  {
   "cell_type": "code",
   "execution_count": 201,
   "metadata": {},
   "outputs": [
    {
     "data": {
      "text/plain": [
       "<keras.engine.sequential.Sequential at 0x22151961828>"
      ]
     },
     "execution_count": 201,
     "metadata": {},
     "output_type": "execute_result"
    }
   ],
   "source": [
    "Optimize_SA(model = model, score=score,init_weights=weights,structure=structure)"
   ]
  },
  {
   "cell_type": "code",
   "execution_count": 202,
   "metadata": {},
   "outputs": [
    {
     "name": "stdout",
     "output_type": "stream",
     "text": [
      "Our accuracy is 70.46%\n",
      "Our AUC is 81.15%\n"
     ]
    },
    {
     "data": {
      "image/png": "[encoded data removed]",
      "text/plain": [
       "<Figure size 432x288 with 2 Axes>"
      ]
     },
     "metadata": {
      "needs_background": "light"
     },
     "output_type": "display_data"
    },
    {
     "data": {
      "image/png": "[encoded data removed]",
      "text/plain": [
       "<Figure size 432x288 with 1 Axes>"
      ]
     },
     "metadata": {
      "needs_background": "light"
     },
     "output_type": "display_data"
    }
   ],
   "source": [
    "Performance(model)"
   ]
  }
 ],
 "metadata": {
  "colab": {
   "collapsed_sections": [
    "f5BM9m0lzRPv"
   ],
   "name": "ES_ANN_0508",
   "provenance": [],
   "toc_visible": true,
   "version": "0.3.2"
  },
  "kernelspec": {
   "display_name": "Python 3",
   "language": "python",
   "name": "python3"
  },
  "language_info": {
   "codemirror_mode": {
    "name": "ipython",
    "version": 3
   },
   "file_extension": ".py",
   "mimetype": "text/x-python",
   "name": "python",
   "nbconvert_exporter": "python",
   "pygments_lexer": "ipython3",
   "version": "3.6.4"
  },
  "toc-autonumbering": true,
  "toc-showcode": false,
  "toc-showmarkdowntxt": false
 },
 "nbformat": 4,
 "nbformat_minor": 2
}
