{
 "cells": [
  {
   "cell_type": "code",
   "execution_count": 1,
   "metadata": {},
   "outputs": [],
   "source": [
    "import numpy as np\n",
    "import random\n",
    "import math\n",
    "import matplotlib.pyplot as plt\n",
    "from matplotlib import pyplot as plt\n",
    "from matplotlib import animation"
   ]
  },
  {
   "cell_type": "markdown",
   "metadata": {},
   "source": [
    "### 目標函數設定"
   ]
  },
  {
   "cell_type": "code",
   "execution_count": 79,
   "metadata": {},
   "outputs": [],
   "source": [
    "def inputfun(x):\n",
    "    return (x - 2) * (x + 3) * (x + 8) * (x - 9)"
   ]
  },
  {
   "cell_type": "markdown",
   "metadata": {},
   "source": [
    "### 參數設定"
   ]
  },
  {
   "cell_type": "code",
   "execution_count": 84,
   "metadata": {},
   "outputs": [
    {
     "name": "stdout",
     "output_type": "stream",
     "text": [
      "初始解： -0.5875538346778653\n"
     ]
    }
   ],
   "source": [
    "initT = 1000  # 初始溫度\n",
    "minT = 1  # 溫度下限\n",
    "iterL = 15000 # 每個T值的迭代次數\n",
    "delta = 0.95  # 溫度衰減係數\n",
    "k = 1                          \n",
    "initx = 10 * (2 * np.random.rand() - 1)\n",
    "nowt = initT  \n",
    "print(\"初始解：\", initx)"
   ]
  },
  {
   "cell_type": "markdown",
   "metadata": {},
   "source": [
    "### 測試目標函數"
   ]
  },
  {
   "cell_type": "code",
   "execution_count": 85,
   "metadata": {},
   "outputs": [],
   "source": [
    "xx = np.linspace(-10, 10, 300)\n",
    "yy = inputfun(xx)"
   ]
  },
  {
   "cell_type": "markdown",
   "metadata": {},
   "source": [
    "### 初始list"
   ]
  },
  {
   "cell_type": "code",
   "execution_count": 86,
   "metadata": {},
   "outputs": [
    {
     "data": {
      "text/plain": [
       "[-0.5875538346778653]"
      ]
     },
     "execution_count": 86,
     "metadata": {},
     "output_type": "execute_result"
    }
   ],
   "source": [
    "val_list = [initx]\n",
    "val_list"
   ]
  },
  {
   "cell_type": "markdown",
   "metadata": {},
   "source": [
    "### 模擬退火演算法尋找最小值過程"
   ]
  },
  {
   "cell_type": "code",
   "execution_count": 87,
   "metadata": {},
   "outputs": [
    {
     "data": {
      "image/png": "[encoded data removed]",
      "text/plain": [
       "<Figure size 432x288 with 1 Axes>"
      ]
     },
     "metadata": {},
     "output_type": "display_data"
    }
   ],
   "source": [
    "import matplotlib.pyplot as plt\n",
    "import matplotlib.animation as animation\n",
    "import numpy as np\n",
    "if __name__ == \"__main__\":\n",
    "#     fig = plt.figure()\n",
    "    gif, ax = plt.subplots()\n",
    "    l1 = ax.scatter(xx, inputfun(xx))\n",
    "#     l1 = ax.plot(xx, inputfun(xx))\n",
    "    \n",
    "    figs = []\n",
    "    while nowt > minT:\n",
    "        for i in range(iterL):\n",
    "            funVal = inputfun(initx)\n",
    "            xnew = initx  + (2 * np.random.rand() - 1)\n",
    "            if -10 <= xnew <= 10:\n",
    "                funnew = inputfun(xnew)\n",
    "            if i % 100 == 0:\n",
    "                val_list.append(xnew)\n",
    "                res = funnew - funVal\n",
    "                if res < 0:\n",
    "                    initx = xnew\n",
    "                else:\n",
    "                    p = np.exp(-res / (k * nowt))\n",
    "                    if np.random.rand() < p:\n",
    "                        initx = xnew\n",
    "        nowt = nowt * delta\n",
    "#         fig, ax = plt.subplots()  # 我們的資料是一個0~2π內的正弦曲線\n",
    "#         line, = plt.plot(xx, inputfun(xx))\n",
    "#         point, = plt.plot(initx, inputfun(initx), 'ro')\n",
    "        point = plt.plot(initx, inputfun(initx), 'ro')\n",
    "        figs.append(point)\n",
    "\n",
    "    \n",
    "    ani = animation.ArtistAnimation(gif, figs, interval=200, repeat_delay=1000)\n",
    "    ani.save(\"test1.gif\",writer='pillow')"
   ]
  },
  {
   "cell_type": "code",
   "execution_count": null,
   "metadata": {},
   "outputs": [],
   "source": []
  }
 ],
 "metadata": {
  "kernelspec": {
   "display_name": "Python 3",
   "language": "python",
   "name": "python3"
  },
  "language_info": {
   "codemirror_mode": {
    "name": "ipython",
    "version": 3
   },
   "file_extension": ".py",
   "mimetype": "text/x-python",
   "name": "python",
   "nbconvert_exporter": "python",
   "pygments_lexer": "ipython3",
   "version": "3.6.0"
  }
 },
 "nbformat": 4,
 "nbformat_minor": 2
}
